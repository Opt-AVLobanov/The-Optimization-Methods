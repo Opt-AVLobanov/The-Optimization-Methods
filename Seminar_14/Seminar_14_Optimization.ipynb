{
  "nbformat": 4,
  "nbformat_minor": 0,
  "metadata": {
    "colab": {
      "provenance": []
    },
    "kernelspec": {
      "name": "python3",
      "display_name": "Python 3"
    },
    "language_info": {
      "name": "python"
    }
  },
  "cells": [
    {
      "cell_type": "markdown",
      "source": [
        "# Семинар 14\n",
        "# Стохастический градиентный спуск (SGD)\n",
        "\n",
        "\n"
      ],
      "metadata": {
        "id": "KoFxxaEsudrV"
      }
    },
    {
      "cell_type": "markdown",
      "source": [
        "Рассмотрим классическую задачу минимизации функции:\n",
        "\n",
        "$$f(x) := \\mathbb{E}_\\xi f(x,\\xi) \\rightarrow \\min_{x \\in \\mathbb{R}^n}, $$\n",
        "\n",
        "где $\\mathbb{E}_\\xi$ - математическое ожидание по переменной $\\xi$, закон распределения $\\xi$ может быть не известен."
      ],
      "metadata": {
        "id": "shIa7-m7u9aF"
      }
    },
    {
      "cell_type": "markdown",
      "source": [
        "Тогда алгоритм **Stochastic Gradient Descent (SGD):** выглядит следующим образом:\n",
        "\n",
        "\\begin{equation}\n",
        "  x^{k+1} = x^{k} - h \\nabla f(x^{k}, \\xi^k)\n",
        "\\end{equation}"
      ],
      "metadata": {
        "id": "zB-8skBowAM8"
      }
    },
    {
      "cell_type": "markdown",
      "source": [
        "## Предположения"
      ],
      "metadata": {
        "id": "UAwzhIM-wtia"
      }
    },
    {
      "cell_type": "markdown",
      "source": [
        "***Предположение 1: (Несмещенность градиента)***\n",
        "\\begin{equation}\n",
        "  \\forall x : \\;\\;\\; \\mathbb{E}_\\xi [\\nabla f(x,\\xi)] = \\nabla f(x)\n",
        "\\end{equation}"
      ],
      "metadata": {
        "id": "0B2nu5mOwwz6"
      }
    },
    {
      "cell_type": "markdown",
      "source": [
        "***Предпложение 2: (Второй момент)***\n",
        "\n",
        "\\begin{equation}\n",
        "  \\mathbb{E}_\\xi [\\| \\nabla f(x, \\xi) \\|_2^2] \\leq 2 L (f(x) - f(x_*)) + \\sigma^2\n",
        "\\end{equation}"
      ],
      "metadata": {
        "id": "FNsyDcYRx5kQ"
      }
    },
    {
      "cell_type": "markdown",
      "source": [
        "***Предпложение 3: (Сильная выпуклость)***\n",
        "\n",
        "\\begin{equation}\n",
        "  f(x_*) \\geq f(x) + \\langle \\nabla f (x), x_* - x \\rangle + \\frac{\\mu}{2} \\| x_* - x \\|_2^2\n",
        "\\end{equation}"
      ],
      "metadata": {
        "id": "lDhxs9bNzN3i"
      }
    },
    {
      "cell_type": "markdown",
      "source": [
        "## Теорема"
      ],
      "metadata": {
        "id": "1_m4UsPM357e"
      }
    },
    {
      "cell_type": "markdown",
      "source": [
        "Пусть выполнены Предположения 1-3 и $h \\leq \\frac{1}{2L}$, тогда \n",
        "\\begin{equation}\n",
        "  \\mathbb{E} \\| x^{k+1} - x_* \\|_2^2 \\leq (1-\\mu h)^k \\| x^0 - x_* \\|_2^2 + \\frac{h \\sigma^2}{\\mu}.\n",
        "\\end{equation}"
      ],
      "metadata": {
        "id": "60CU_rmR39Im"
      }
    },
    {
      "cell_type": "markdown",
      "source": [
        "## Предположение 2"
      ],
      "metadata": {
        "id": "NgrSyshB5Rzt"
      }
    },
    {
      "cell_type": "markdown",
      "source": [
        "\\begin{equation}\n",
        "  \\mathbb{E}_\\xi [\\| \\nabla f(x, \\xi) \\|_2^2] \\leq 2 L (f(x) - f(x_*)) + \\sigma^2\n",
        "\\end{equation}"
      ],
      "metadata": {
        "id": "1T92dgih5Viu"
      }
    },
    {
      "cell_type": "markdown",
      "source": [
        "Рассмотрим частные случаи, в которых выполняется данное предположение.\n"
      ],
      "metadata": {
        "id": "5rNB8DVd56Cv"
      }
    },
    {
      "cell_type": "markdown",
      "source": [
        "### Случай 1 (Липшицевый градиент, без стохастики)"
      ],
      "metadata": {
        "id": "6j-RCeRG6Dt0"
      }
    },
    {
      "cell_type": "markdown",
      "source": [
        "Поскольку в рассматриваемом случае отсутствует стохастика, то можно записать\n",
        "$$ \\nabla f(x, \\xi) \\equiv \\nabla f(x) $$"
      ],
      "metadata": {
        "id": "cxjQ-AsO6WTu"
      }
    },
    {
      "cell_type": "markdown",
      "source": [
        "Из условия липшицивости градиента\n",
        "$$\\|\\nabla f(y) - \\nabla f(x) \\|_2 \\leq L \\|y - x \\|_2$$\n",
        "следует, что\n",
        "$$f(y) \\leq f(x) + \\langle \\nabla f(x), y-x \\rangle + \\frac{L}{2} \\|y-x \\|_2^2.$$\n",
        "Тогда $$f(x_*) \\leq f(x) - \\frac{1}{2L} \\| \\nabla f(x) \\|_2^2 ⇒$$\n",
        "\n",
        "$$⇒ \\;\\;\\; \\| \\nabla f(x) \\|_2^2 \\leq 2L (f(x) - f(x^*))$$\n",
        "Здесь $\\sigma^2 = 0$."
      ],
      "metadata": {
        "id": "Smy3QY2G9-64"
      }
    },
    {
      "cell_type": "markdown",
      "source": [
        "### Случай 2 (случай 1 + Аддитивый шум)"
      ],
      "metadata": {
        "id": "JV0GwATNAxMl"
      }
    },
    {
      "cell_type": "markdown",
      "source": [
        "Пусть $\\nabla f(x, \\xi) = \\nabla f(x) + \\xi$, где аддитивный шум имеет ограниченный второй момент: $\\mathbb{E} \\| \\xi \\|_2^2 \\leq \\sigma^2$, тогда\n",
        "$$ \\mathbb{E} \\| \\nabla f(x, \\xi)\\|_2^2 = \\| \\nabla f(x) \\|_2^2 + \\mathbb{E} \\| \\xi \\|_2^2 \\leq 2L (f(x) - f(x^*)) + \\sigma^2, $$\n",
        "где $\\mathbb{E} \\xi = 0.$"
      ],
      "metadata": {
        "id": "2FBURcUhA0_G"
      }
    },
    {
      "cell_type": "markdown",
      "source": [
        "### Случай 3 (Задача минимизация суммы) "
      ],
      "metadata": {
        "id": "Z1GNXjarfJNO"
      }
    },
    {
      "cell_type": "markdown",
      "source": [
        "Данный случай подразумевает решение задачи минимизации суммы, где функция задана следующим образом:\n",
        "$$f(x) = \\frac{1}{m} \\sum_{i = 1}^{m} f_i(x).$$\n",
        "\n",
        "Данную задачу можно переписать через математическое ожидание как\n",
        "$$f(x) = \\mathbb{E} f_{\\xi}(x),$$\n",
        "где $\\xi$ - случайная величина, равномерно распределенная среди значений $1,..,m$."
      ],
      "metadata": {
        "id": "pSgJPcdyBh0O"
      }
    },
    {
      "cell_type": "markdown",
      "source": [
        "Тогда проделаем некоторые операции для нахождения второго момента:\n",
        "$$\\mathbb{E}_{\\xi} [\\| \\nabla f_{\\xi}(x) \\|_2^2] = \\mathbb{E}_{\\xi} [\\| \\nabla f_{\\xi}(x) - \\nabla f_{\\xi}(x_*) + \\nabla f_{\\xi}(x_*) \\|_2^2] \\leq$$"
      ],
      "metadata": {
        "id": "5nXWWPmDgo0a"
      }
    },
    {
      "cell_type": "markdown",
      "source": [
        "Пользуясь тем, что $(a+b)^2 \\leq 2  a^2 + 2 b^2$, получим следующее\n",
        "$$ \\leq 2 \\mathbb{E}_\\xi \\| \\nabla f_\\xi (x) - \\nabla f_\\xi (x_*) \\| + 2 \\mathbb{E}_\\xi \\| \\nabla f_\\xi (x_*) \\|_2^2 \\leq 4 L (f(x) - f(x_*)) + 2 \\mathbb{E}_\\xi \\| \\nabla f_\\xi (x_*) \\|_2^2, $$\n"
      ],
      "metadata": {
        "id": "VIgkT17bixg4"
      }
    },
    {
      "cell_type": "markdown",
      "source": [
        "где $2 \\mathbb{E}_\\xi \\| \\nabla f_\\xi (x_*) \\|_2^2 = \\frac{2}{m} \\sum_{i=1}^m \\| \\nabla f_\\xi (x_*) \\|_2^2$ является аналогом $\\sigma^2$."
      ],
      "metadata": {
        "id": "V_Px_xneloiz"
      }
    },
    {
      "cell_type": "markdown",
      "source": [
        "## Доказательство Теоремы"
      ],
      "metadata": {
        "id": "fwP2UHSpnErN"
      }
    },
    {
      "cell_type": "markdown",
      "source": [
        "### Вспомагательная Лемма"
      ],
      "metadata": {
        "id": "GeU1nlPZnIfj"
      }
    },
    {
      "cell_type": "markdown",
      "source": [
        "$$\\mathbb{E} \\|x^{k+1} - x_* \\|^2_2 \\leq (1 - \\mu h) \\mathbb{E} \\| x^k - x_* \\|_2^2 - h \\mathbb{E} (f(x^k) - f(x_*)) + h^2 \\sigma^2,$$\n",
        "\n",
        "где $h \\leq \\frac{1}{2L}$"
      ],
      "metadata": {
        "id": "9e2_xe8ynWtf"
      }
    },
    {
      "cell_type": "markdown",
      "source": [
        "### Доказательство Леммы"
      ],
      "metadata": {
        "id": "J_BGXz40oCrg"
      }
    },
    {
      "cell_type": "markdown",
      "source": [
        "\\begin{equation}\n",
        "\\begin{split}\n",
        "  \\mathbb{E}[\\|x^{k+1} - x_* \\|_2^2 \\;\\;\\;|\\;\\;\\; \\mathfrak{F}_k ]  & = \\mathbb{E}[\\|x^{k} - x_* \\|_2^2 - 2 h \\langle \\nabla f(x^k, \\xi^k), x^{k} - x_*  \\rangle + h^2 \\| \\nabla f(x^k, \\xi^k) \\|_2^2 \\;\\;\\;|\\;\\;\\; \\mathfrak{F}_k ] =\\\\\n",
        "  & = \\|x^{k} - x_* \\|_2^2 - 2 h \\langle \\nabla f(x^k), x^{k} - x_*  \\rangle + h^2 \\mathbb{E}[ \\| \\nabla f(x^k, \\xi^k) \\|_2^2 \\;\\;\\;|\\;\\;\\; \\mathfrak{F}_k ] \\leq \\\\\n",
        "  & \\leq \\|x^{k} - x_* \\|_2^2 - 2 h (\\frac{\\mu}{2} \\| x^k -x_* \\|_2^2 + (f(x^k) - f(x_*))) + h^2 (2L (f(x^k) - f(x_*)) + \\sigma^2)\n",
        "\\end{split}\n",
        "\\end{equation}\n"
      ],
      "metadata": {
        "id": "R-b1rtKSoQGo"
      }
    },
    {
      "cell_type": "markdown",
      "source": [
        "Теперь перейдем от условного мат ожидания к полному путем $\\mathbb{E}_{\\mathfrak{F}_k} [\\mathbb{E}[\\|x^{k+1} - x_* \\|_2^2 \\;\\;\\;|\\;\\;\\; \\mathfrak{F}_k ]] $ тогда получим"
      ],
      "metadata": {
        "id": "Tof8ffnmtCSk"
      }
    },
    {
      "cell_type": "markdown",
      "source": [
        "$$\\mathbb{E} \\|x^{k+1} - x_* \\|^2_2 \\leq (1 - \\mu h) \\mathbb{E} \\| x^k - x_* \\|_2^2 - 2 h(1 - Lh) \\mathbb{E} (f(x^k) - f(x_*)) + h^2 \\sigma^2$$"
      ],
      "metadata": {
        "id": "t5GGHtRKts01"
      }
    },
    {
      "cell_type": "markdown",
      "source": [
        "Заметим, что $h \\leq \\frac{1}{2L} \\Rightarrow (1 - Lh) \\geq \\frac{1}{2}$, тогда "
      ],
      "metadata": {
        "id": "LQpKoX3vvXRL"
      }
    },
    {
      "cell_type": "markdown",
      "source": [
        "$$\\mathbb{E} \\|x^{k+1} - x_* \\|^2_2 \\leq (1 - \\mu h) \\mathbb{E} \\| x^k - x_* \\|_2^2 + h^2 \\sigma^2$$"
      ],
      "metadata": {
        "id": "Er-pqM-XvoSp"
      }
    },
    {
      "cell_type": "markdown",
      "source": [
        "Получим нужный нам результат, используя сумму геометрической прогрессии\n"
      ],
      "metadata": {
        "id": "PVbVSYTevl9b"
      }
    },
    {
      "cell_type": "markdown",
      "source": [
        "$$\\mathbb{E} \\|x^{k+1} - x_* \\|^2_2 \\leq (1 - \\mu h)^k  \\| x^0 - x_* \\|_2^2 + \\frac{h \\sigma^2}{\\mu}$$"
      ],
      "metadata": {
        "id": "4lbJB1xXwb3V"
      }
    },
    {
      "cell_type": "code",
      "execution_count": null,
      "metadata": {
        "id": "YfCXcRnFuYjg"
      },
      "outputs": [],
      "source": []
    },
    {
      "cell_type": "markdown",
      "source": [
        "## Иллюстрация"
      ],
      "metadata": {
        "id": "VHRpZ5x8yJ4V"
      }
    },
    {
      "cell_type": "code",
      "source": [
        "!pip install d2l==0.16.1"
      ],
      "metadata": {
        "colab": {
          "base_uri": "https://localhost:8080/"
        },
        "id": "AnHuU7nUy0ad",
        "outputId": "f2fc9790-60eb-48a7-93b9-e32d3c2874c1"
      },
      "execution_count": null,
      "outputs": [
        {
          "output_type": "stream",
          "name": "stdout",
          "text": [
            "Looking in indexes: https://pypi.org/simple, https://us-python.pkg.dev/colab-wheels/public/simple/\n",
            "Collecting d2l==0.16.1\n",
            "  Downloading d2l-0.16.1-py3-none-any.whl (76 kB)\n",
            "\u001b[K     |████████████████████████████████| 76 kB 1.1 MB/s \n",
            "\u001b[?25hRequirement already satisfied: numpy in /usr/local/lib/python3.8/dist-packages (from d2l==0.16.1) (1.21.6)\n",
            "Requirement already satisfied: matplotlib in /usr/local/lib/python3.8/dist-packages (from d2l==0.16.1) (3.2.2)\n",
            "Requirement already satisfied: pandas in /usr/local/lib/python3.8/dist-packages (from d2l==0.16.1) (1.3.5)\n",
            "Collecting jupyter\n",
            "  Downloading jupyter-1.0.0-py2.py3-none-any.whl (2.7 kB)\n",
            "Requirement already satisfied: nbconvert in /usr/local/lib/python3.8/dist-packages (from jupyter->d2l==0.16.1) (5.6.1)\n",
            "Requirement already satisfied: jupyter-console in /usr/local/lib/python3.8/dist-packages (from jupyter->d2l==0.16.1) (6.1.0)\n",
            "Requirement already satisfied: ipykernel in /usr/local/lib/python3.8/dist-packages (from jupyter->d2l==0.16.1) (5.3.4)\n",
            "Requirement already satisfied: notebook in /usr/local/lib/python3.8/dist-packages (from jupyter->d2l==0.16.1) (5.7.16)\n",
            "Requirement already satisfied: ipywidgets in /usr/local/lib/python3.8/dist-packages (from jupyter->d2l==0.16.1) (7.7.1)\n",
            "Collecting qtconsole\n",
            "  Downloading qtconsole-5.4.0-py3-none-any.whl (121 kB)\n",
            "\u001b[K     |████████████████████████████████| 121 kB 9.0 MB/s \n",
            "\u001b[?25hRequirement already satisfied: jupyter-client in /usr/local/lib/python3.8/dist-packages (from ipykernel->jupyter->d2l==0.16.1) (6.1.12)\n",
            "Requirement already satisfied: tornado>=4.2 in /usr/local/lib/python3.8/dist-packages (from ipykernel->jupyter->d2l==0.16.1) (6.0.4)\n",
            "Requirement already satisfied: ipython>=5.0.0 in /usr/local/lib/python3.8/dist-packages (from ipykernel->jupyter->d2l==0.16.1) (7.9.0)\n",
            "Requirement already satisfied: traitlets>=4.1.0 in /usr/local/lib/python3.8/dist-packages (from ipykernel->jupyter->d2l==0.16.1) (5.1.1)\n",
            "Requirement already satisfied: prompt-toolkit<2.1.0,>=2.0.0 in /usr/local/lib/python3.8/dist-packages (from ipython>=5.0.0->ipykernel->jupyter->d2l==0.16.1) (2.0.10)\n",
            "Requirement already satisfied: pygments in /usr/local/lib/python3.8/dist-packages (from ipython>=5.0.0->ipykernel->jupyter->d2l==0.16.1) (2.6.1)\n",
            "Requirement already satisfied: setuptools>=18.5 in /usr/local/lib/python3.8/dist-packages (from ipython>=5.0.0->ipykernel->jupyter->d2l==0.16.1) (57.4.0)\n",
            "Requirement already satisfied: decorator in /usr/local/lib/python3.8/dist-packages (from ipython>=5.0.0->ipykernel->jupyter->d2l==0.16.1) (4.4.2)\n",
            "Requirement already satisfied: pickleshare in /usr/local/lib/python3.8/dist-packages (from ipython>=5.0.0->ipykernel->jupyter->d2l==0.16.1) (0.7.5)\n",
            "Requirement already satisfied: backcall in /usr/local/lib/python3.8/dist-packages (from ipython>=5.0.0->ipykernel->jupyter->d2l==0.16.1) (0.2.0)\n",
            "Requirement already satisfied: pexpect in /usr/local/lib/python3.8/dist-packages (from ipython>=5.0.0->ipykernel->jupyter->d2l==0.16.1) (4.8.0)\n",
            "Collecting jedi>=0.10\n",
            "  Downloading jedi-0.18.2-py2.py3-none-any.whl (1.6 MB)\n",
            "\u001b[K     |████████████████████████████████| 1.6 MB 38.0 MB/s \n",
            "\u001b[?25hRequirement already satisfied: parso<0.9.0,>=0.8.0 in /usr/local/lib/python3.8/dist-packages (from jedi>=0.10->ipython>=5.0.0->ipykernel->jupyter->d2l==0.16.1) (0.8.3)\n",
            "Requirement already satisfied: six>=1.9.0 in /usr/local/lib/python3.8/dist-packages (from prompt-toolkit<2.1.0,>=2.0.0->ipython>=5.0.0->ipykernel->jupyter->d2l==0.16.1) (1.15.0)\n",
            "Requirement already satisfied: wcwidth in /usr/local/lib/python3.8/dist-packages (from prompt-toolkit<2.1.0,>=2.0.0->ipython>=5.0.0->ipykernel->jupyter->d2l==0.16.1) (0.2.5)\n",
            "Requirement already satisfied: ipython-genutils~=0.2.0 in /usr/local/lib/python3.8/dist-packages (from ipywidgets->jupyter->d2l==0.16.1) (0.2.0)\n",
            "Requirement already satisfied: widgetsnbextension~=3.6.0 in /usr/local/lib/python3.8/dist-packages (from ipywidgets->jupyter->d2l==0.16.1) (3.6.1)\n",
            "Requirement already satisfied: jupyterlab-widgets>=1.0.0 in /usr/local/lib/python3.8/dist-packages (from ipywidgets->jupyter->d2l==0.16.1) (3.0.3)\n",
            "Requirement already satisfied: terminado>=0.8.1 in /usr/local/lib/python3.8/dist-packages (from notebook->jupyter->d2l==0.16.1) (0.13.3)\n",
            "Requirement already satisfied: prometheus-client in /usr/local/lib/python3.8/dist-packages (from notebook->jupyter->d2l==0.16.1) (0.15.0)\n",
            "Requirement already satisfied: jinja2<=3.0.0 in /usr/local/lib/python3.8/dist-packages (from notebook->jupyter->d2l==0.16.1) (2.11.3)\n",
            "Requirement already satisfied: Send2Trash in /usr/local/lib/python3.8/dist-packages (from notebook->jupyter->d2l==0.16.1) (1.8.0)\n",
            "Requirement already satisfied: jupyter-core>=4.4.0 in /usr/local/lib/python3.8/dist-packages (from notebook->jupyter->d2l==0.16.1) (4.11.2)\n",
            "Requirement already satisfied: pyzmq>=17 in /usr/local/lib/python3.8/dist-packages (from notebook->jupyter->d2l==0.16.1) (23.2.1)\n",
            "Requirement already satisfied: nbformat in /usr/local/lib/python3.8/dist-packages (from notebook->jupyter->d2l==0.16.1) (5.7.0)\n",
            "Requirement already satisfied: MarkupSafe>=0.23 in /usr/local/lib/python3.8/dist-packages (from jinja2<=3.0.0->notebook->jupyter->d2l==0.16.1) (2.0.1)\n",
            "Requirement already satisfied: python-dateutil>=2.1 in /usr/local/lib/python3.8/dist-packages (from jupyter-client->ipykernel->jupyter->d2l==0.16.1) (2.8.2)\n",
            "Requirement already satisfied: mistune<2,>=0.8.1 in /usr/local/lib/python3.8/dist-packages (from nbconvert->jupyter->d2l==0.16.1) (0.8.4)\n",
            "Requirement already satisfied: pandocfilters>=1.4.1 in /usr/local/lib/python3.8/dist-packages (from nbconvert->jupyter->d2l==0.16.1) (1.5.0)\n",
            "Requirement already satisfied: testpath in /usr/local/lib/python3.8/dist-packages (from nbconvert->jupyter->d2l==0.16.1) (0.6.0)\n",
            "Requirement already satisfied: entrypoints>=0.2.2 in /usr/local/lib/python3.8/dist-packages (from nbconvert->jupyter->d2l==0.16.1) (0.4)\n",
            "Requirement already satisfied: bleach in /usr/local/lib/python3.8/dist-packages (from nbconvert->jupyter->d2l==0.16.1) (5.0.1)\n",
            "Requirement already satisfied: defusedxml in /usr/local/lib/python3.8/dist-packages (from nbconvert->jupyter->d2l==0.16.1) (0.7.1)\n",
            "Requirement already satisfied: fastjsonschema in /usr/local/lib/python3.8/dist-packages (from nbformat->notebook->jupyter->d2l==0.16.1) (2.16.2)\n",
            "Requirement already satisfied: jsonschema>=2.6 in /usr/local/lib/python3.8/dist-packages (from nbformat->notebook->jupyter->d2l==0.16.1) (4.3.3)\n",
            "Requirement already satisfied: importlib-resources>=1.4.0 in /usr/local/lib/python3.8/dist-packages (from jsonschema>=2.6->nbformat->notebook->jupyter->d2l==0.16.1) (5.10.0)\n",
            "Requirement already satisfied: pyrsistent!=0.17.0,!=0.17.1,!=0.17.2,>=0.14.0 in /usr/local/lib/python3.8/dist-packages (from jsonschema>=2.6->nbformat->notebook->jupyter->d2l==0.16.1) (0.19.2)\n",
            "Requirement already satisfied: attrs>=17.4.0 in /usr/local/lib/python3.8/dist-packages (from jsonschema>=2.6->nbformat->notebook->jupyter->d2l==0.16.1) (22.1.0)\n",
            "Requirement already satisfied: zipp>=3.1.0 in /usr/local/lib/python3.8/dist-packages (from importlib-resources>=1.4.0->jsonschema>=2.6->nbformat->notebook->jupyter->d2l==0.16.1) (3.10.0)\n",
            "Requirement already satisfied: ptyprocess in /usr/local/lib/python3.8/dist-packages (from terminado>=0.8.1->notebook->jupyter->d2l==0.16.1) (0.7.0)\n",
            "Requirement already satisfied: webencodings in /usr/local/lib/python3.8/dist-packages (from bleach->nbconvert->jupyter->d2l==0.16.1) (0.5.1)\n",
            "Requirement already satisfied: cycler>=0.10 in /usr/local/lib/python3.8/dist-packages (from matplotlib->d2l==0.16.1) (0.11.0)\n",
            "Requirement already satisfied: kiwisolver>=1.0.1 in /usr/local/lib/python3.8/dist-packages (from matplotlib->d2l==0.16.1) (1.4.4)\n",
            "Requirement already satisfied: pyparsing!=2.0.4,!=2.1.2,!=2.1.6,>=2.0.1 in /usr/local/lib/python3.8/dist-packages (from matplotlib->d2l==0.16.1) (3.0.9)\n",
            "Requirement already satisfied: pytz>=2017.3 in /usr/local/lib/python3.8/dist-packages (from pandas->d2l==0.16.1) (2022.6)\n",
            "Collecting qtpy>=2.0.1\n",
            "  Downloading QtPy-2.3.0-py3-none-any.whl (83 kB)\n",
            "\u001b[K     |████████████████████████████████| 83 kB 886 kB/s \n",
            "\u001b[?25hRequirement already satisfied: packaging in /usr/local/lib/python3.8/dist-packages (from qtpy>=2.0.1->qtconsole->jupyter->d2l==0.16.1) (21.3)\n",
            "Installing collected packages: jedi, qtpy, qtconsole, jupyter, d2l\n",
            "Successfully installed d2l-0.16.1 jedi-0.18.2 jupyter-1.0.0 qtconsole-5.4.0 qtpy-2.3.0\n"
          ]
        }
      ]
    },
    {
      "cell_type": "code",
      "source": [
        "from matplotlib import pyplot as plt\n",
        "from d2l import torch as d2l\n",
        "import math\n",
        "import torch"
      ],
      "metadata": {
        "id": "J1tub-Euygwy"
      },
      "execution_count": null,
      "outputs": []
    },
    {
      "cell_type": "code",
      "source": [
        "f = lambda x1, x2: x1**2 + 2 * x2**2\n",
        "gradf = lambda x1, x2: (2 * x1, 4 * x2)\n",
        "\n",
        "def train_2d(trainer, steps=20):\n",
        "  x1, x2, s1, s2 = -5, -2, 0, 0\n",
        "  results = [(x1, x2)]\n",
        "  for i in range(steps): \n",
        "    x1, x2, s1, s2 = trainer(x1, x2, s1, s2)\n",
        "    results.append((x1, x2))\n",
        "  return results\n",
        "\n",
        "def show_trace_2d(f, results):\n",
        "  d2l.set_figsize()\n",
        "  d2l.plt.plot(*zip(*results), '-o', color='red')\n",
        "  x1, x2 = torch.meshgrid(torch.arange(-5.5, 1.0, 0.1), torch.arange(-3.0, 1.0, 0.1))\n",
        "  d2l.plt.contour(x1, x2, f(x1, x2), color=\"blue\")\n",
        "  d2l.plt.xlabel('x1')\n",
        "  d2l.plt.ylabel('x2')\n",
        "  \n",
        "  \n",
        "def gd(x1, x2, s1, s2):\n",
        "  (g1, g2) = gradf(x1, x2)\n",
        "  return (x1 - eta * g1, x2 - eta * g2, 0, 0)\n",
        "\n",
        "eta = 0.1\n",
        "plt.title(\"Gradient Descent\")\n",
        "show_trace_2d(f, train_2d(gd))"
      ],
      "metadata": {
        "colab": {
          "base_uri": "https://localhost:8080/",
          "height": 480
        },
        "id": "vwsdSFSlzO3L",
        "outputId": "6975fa1a-689f-4379-d719-bef63910e116"
      },
      "execution_count": null,
      "outputs": [
        {
          "output_type": "stream",
          "name": "stderr",
          "text": [
            "/usr/local/lib/python3.8/dist-packages/torch/functional.py:478: UserWarning: torch.meshgrid: in an upcoming release, it will be required to pass the indexing argument. (Triggered internally at  ../aten/src/ATen/native/TensorShape.cpp:2894.)\n",
            "  return _VF.meshgrid(tensors, **kwargs)  # type: ignore[attr-defined]\n",
            "<ipython-input-3-bf104f76876e>:16: UserWarning: The following kwargs were not used by contour: 'color'\n",
            "  d2l.plt.contour(x1, x2, f(x1, x2), color=\"blue\")\n"
          ]
        },
        {
          "output_type": "display_data",
          "data": {
            "text/plain": [
              "<Figure size 432x288 with 1 Axes>"
            ],
            "image/svg+xml": "<?xml version=\"1.0\" encoding=\"utf-8\" standalone=\"no\"?>\n<!DOCTYPE svg PUBLIC \"-//W3C//DTD SVG 1.1//EN\"\n  \"http://www.w3.org/Graphics/SVG/1.1/DTD/svg11.dtd\">\n<!-- Created with matplotlib (https://matplotlib.org/) -->\n<svg height=\"277.314375pt\" version=\"1.1\" viewBox=\"0 0 394.160937 277.314375\" width=\"394.160937pt\" xmlns=\"http://www.w3.org/2000/svg\" xmlns:xlink=\"http://www.w3.org/1999/xlink\">\n <defs>\n  <style type=\"text/css\">\n*{stroke-linecap:butt;stroke-linejoin:round;}\n  </style>\n </defs>\n <g id=\"figure_1\">\n  <g id=\"patch_1\">\n   <path d=\"M 0 277.314375 \nL 394.160937 277.314375 \nL 394.160937 0 \nL 0 0 \nz\n\" style=\"fill:none;\"/>\n  </g>\n  <g id=\"axes_1\">\n   <g id=\"patch_2\">\n    <path d=\"M 52.160938 239.758125 \nL 386.960938 239.758125 \nL 386.960938 22.318125 \nL 52.160938 22.318125 \nz\n\" style=\"fill:#ffffff;\"/>\n   </g>\n   <g id=\"matplotlib.axis_1\">\n    <g id=\"xtick_1\">\n     <g id=\"line2d_1\">\n      <defs>\n       <path d=\"M 0 0 \nL 0 3.5 \n\" id=\"m98b27c1cac\" style=\"stroke:#000000;stroke-width:0.8;\"/>\n      </defs>\n      <g>\n       <use style=\"stroke:#000000;stroke-width:0.8;\" x=\"78.317188\" xlink:href=\"#m98b27c1cac\" y=\"239.758125\"/>\n      </g>\n     </g>\n     <g id=\"text_1\">\n      <!-- −5 -->\n      <defs>\n       <path d=\"M 10.59375 35.5 \nL 73.1875 35.5 \nL 73.1875 27.203125 \nL 10.59375 27.203125 \nz\n\" id=\"DejaVuSans-8722\"/>\n       <path d=\"M 10.796875 72.90625 \nL 49.515625 72.90625 \nL 49.515625 64.59375 \nL 19.828125 64.59375 \nL 19.828125 46.734375 \nQ 21.96875 47.46875 24.109375 47.828125 \nQ 26.265625 48.1875 28.421875 48.1875 \nQ 40.625 48.1875 47.75 41.5 \nQ 54.890625 34.8125 54.890625 23.390625 \nQ 54.890625 11.625 47.5625 5.09375 \nQ 40.234375 -1.421875 26.90625 -1.421875 \nQ 22.3125 -1.421875 17.546875 -0.640625 \nQ 12.796875 0.140625 7.71875 1.703125 \nL 7.71875 11.625 \nQ 12.109375 9.234375 16.796875 8.0625 \nQ 21.484375 6.890625 26.703125 6.890625 \nQ 35.15625 6.890625 40.078125 11.328125 \nQ 45.015625 15.765625 45.015625 23.390625 \nQ 45.015625 31 40.078125 35.4375 \nQ 35.15625 39.890625 26.703125 39.890625 \nQ 22.75 39.890625 18.8125 39.015625 \nQ 14.890625 38.140625 10.796875 36.28125 \nz\n\" id=\"DejaVuSans-53\"/>\n      </defs>\n      <g transform=\"translate(70.946094 254.356562)scale(0.1 -0.1)\">\n       <use xlink:href=\"#DejaVuSans-8722\"/>\n       <use x=\"83.789062\" xlink:href=\"#DejaVuSans-53\"/>\n      </g>\n     </g>\n    </g>\n    <g id=\"xtick_2\">\n     <g id=\"line2d_2\">\n      <g>\n       <use style=\"stroke:#000000;stroke-width:0.8;\" x=\"130.629688\" xlink:href=\"#m98b27c1cac\" y=\"239.758125\"/>\n      </g>\n     </g>\n     <g id=\"text_2\">\n      <!-- −4 -->\n      <defs>\n       <path d=\"M 37.796875 64.3125 \nL 12.890625 25.390625 \nL 37.796875 25.390625 \nz\nM 35.203125 72.90625 \nL 47.609375 72.90625 \nL 47.609375 25.390625 \nL 58.015625 25.390625 \nL 58.015625 17.1875 \nL 47.609375 17.1875 \nL 47.609375 0 \nL 37.796875 0 \nL 37.796875 17.1875 \nL 4.890625 17.1875 \nL 4.890625 26.703125 \nz\n\" id=\"DejaVuSans-52\"/>\n      </defs>\n      <g transform=\"translate(123.258594 254.356562)scale(0.1 -0.1)\">\n       <use xlink:href=\"#DejaVuSans-8722\"/>\n       <use x=\"83.789062\" xlink:href=\"#DejaVuSans-52\"/>\n      </g>\n     </g>\n    </g>\n    <g id=\"xtick_3\">\n     <g id=\"line2d_3\">\n      <g>\n       <use style=\"stroke:#000000;stroke-width:0.8;\" x=\"182.942188\" xlink:href=\"#m98b27c1cac\" y=\"239.758125\"/>\n      </g>\n     </g>\n     <g id=\"text_3\">\n      <!-- −3 -->\n      <defs>\n       <path d=\"M 40.578125 39.3125 \nQ 47.65625 37.796875 51.625 33 \nQ 55.609375 28.21875 55.609375 21.1875 \nQ 55.609375 10.40625 48.1875 4.484375 \nQ 40.765625 -1.421875 27.09375 -1.421875 \nQ 22.515625 -1.421875 17.65625 -0.515625 \nQ 12.796875 0.390625 7.625 2.203125 \nL 7.625 11.71875 \nQ 11.71875 9.328125 16.59375 8.109375 \nQ 21.484375 6.890625 26.8125 6.890625 \nQ 36.078125 6.890625 40.9375 10.546875 \nQ 45.796875 14.203125 45.796875 21.1875 \nQ 45.796875 27.640625 41.28125 31.265625 \nQ 36.765625 34.90625 28.71875 34.90625 \nL 20.21875 34.90625 \nL 20.21875 43.015625 \nL 29.109375 43.015625 \nQ 36.375 43.015625 40.234375 45.921875 \nQ 44.09375 48.828125 44.09375 54.296875 \nQ 44.09375 59.90625 40.109375 62.90625 \nQ 36.140625 65.921875 28.71875 65.921875 \nQ 24.65625 65.921875 20.015625 65.03125 \nQ 15.375 64.15625 9.8125 62.3125 \nL 9.8125 71.09375 \nQ 15.4375 72.65625 20.34375 73.4375 \nQ 25.25 74.21875 29.59375 74.21875 \nQ 40.828125 74.21875 47.359375 69.109375 \nQ 53.90625 64.015625 53.90625 55.328125 \nQ 53.90625 49.265625 50.4375 45.09375 \nQ 46.96875 40.921875 40.578125 39.3125 \nz\n\" id=\"DejaVuSans-51\"/>\n      </defs>\n      <g transform=\"translate(175.571094 254.356562)scale(0.1 -0.1)\">\n       <use xlink:href=\"#DejaVuSans-8722\"/>\n       <use x=\"83.789062\" xlink:href=\"#DejaVuSans-51\"/>\n      </g>\n     </g>\n    </g>\n    <g id=\"xtick_4\">\n     <g id=\"line2d_4\">\n      <g>\n       <use style=\"stroke:#000000;stroke-width:0.8;\" x=\"235.254688\" xlink:href=\"#m98b27c1cac\" y=\"239.758125\"/>\n      </g>\n     </g>\n     <g id=\"text_4\">\n      <!-- −2 -->\n      <defs>\n       <path d=\"M 19.1875 8.296875 \nL 53.609375 8.296875 \nL 53.609375 0 \nL 7.328125 0 \nL 7.328125 8.296875 \nQ 12.9375 14.109375 22.625 23.890625 \nQ 32.328125 33.6875 34.8125 36.53125 \nQ 39.546875 41.84375 41.421875 45.53125 \nQ 43.3125 49.21875 43.3125 52.78125 \nQ 43.3125 58.59375 39.234375 62.25 \nQ 35.15625 65.921875 28.609375 65.921875 \nQ 23.96875 65.921875 18.8125 64.3125 \nQ 13.671875 62.703125 7.8125 59.421875 \nL 7.8125 69.390625 \nQ 13.765625 71.78125 18.9375 73 \nQ 24.125 74.21875 28.421875 74.21875 \nQ 39.75 74.21875 46.484375 68.546875 \nQ 53.21875 62.890625 53.21875 53.421875 \nQ 53.21875 48.921875 51.53125 44.890625 \nQ 49.859375 40.875 45.40625 35.40625 \nQ 44.1875 33.984375 37.640625 27.21875 \nQ 31.109375 20.453125 19.1875 8.296875 \nz\n\" id=\"DejaVuSans-50\"/>\n      </defs>\n      <g transform=\"translate(227.883594 254.356562)scale(0.1 -0.1)\">\n       <use xlink:href=\"#DejaVuSans-8722\"/>\n       <use x=\"83.789062\" xlink:href=\"#DejaVuSans-50\"/>\n      </g>\n     </g>\n    </g>\n    <g id=\"xtick_5\">\n     <g id=\"line2d_5\">\n      <g>\n       <use style=\"stroke:#000000;stroke-width:0.8;\" x=\"287.567188\" xlink:href=\"#m98b27c1cac\" y=\"239.758125\"/>\n      </g>\n     </g>\n     <g id=\"text_5\">\n      <!-- −1 -->\n      <defs>\n       <path d=\"M 12.40625 8.296875 \nL 28.515625 8.296875 \nL 28.515625 63.921875 \nL 10.984375 60.40625 \nL 10.984375 69.390625 \nL 28.421875 72.90625 \nL 38.28125 72.90625 \nL 38.28125 8.296875 \nL 54.390625 8.296875 \nL 54.390625 0 \nL 12.40625 0 \nz\n\" id=\"DejaVuSans-49\"/>\n      </defs>\n      <g transform=\"translate(280.196095 254.356562)scale(0.1 -0.1)\">\n       <use xlink:href=\"#DejaVuSans-8722\"/>\n       <use x=\"83.789062\" xlink:href=\"#DejaVuSans-49\"/>\n      </g>\n     </g>\n    </g>\n    <g id=\"xtick_6\">\n     <g id=\"line2d_6\">\n      <g>\n       <use style=\"stroke:#000000;stroke-width:0.8;\" x=\"339.879689\" xlink:href=\"#m98b27c1cac\" y=\"239.758125\"/>\n      </g>\n     </g>\n     <g id=\"text_6\">\n      <!-- 0 -->\n      <defs>\n       <path d=\"M 31.78125 66.40625 \nQ 24.171875 66.40625 20.328125 58.90625 \nQ 16.5 51.421875 16.5 36.375 \nQ 16.5 21.390625 20.328125 13.890625 \nQ 24.171875 6.390625 31.78125 6.390625 \nQ 39.453125 6.390625 43.28125 13.890625 \nQ 47.125 21.390625 47.125 36.375 \nQ 47.125 51.421875 43.28125 58.90625 \nQ 39.453125 66.40625 31.78125 66.40625 \nz\nM 31.78125 74.21875 \nQ 44.046875 74.21875 50.515625 64.515625 \nQ 56.984375 54.828125 56.984375 36.375 \nQ 56.984375 17.96875 50.515625 8.265625 \nQ 44.046875 -1.421875 31.78125 -1.421875 \nQ 19.53125 -1.421875 13.0625 8.265625 \nQ 6.59375 17.96875 6.59375 36.375 \nQ 6.59375 54.828125 13.0625 64.515625 \nQ 19.53125 74.21875 31.78125 74.21875 \nz\n\" id=\"DejaVuSans-48\"/>\n      </defs>\n      <g transform=\"translate(336.698439 254.356562)scale(0.1 -0.1)\">\n       <use xlink:href=\"#DejaVuSans-48\"/>\n      </g>\n     </g>\n    </g>\n    <g id=\"text_7\">\n     <!-- x1 -->\n     <defs>\n      <path d=\"M 54.890625 54.6875 \nL 35.109375 28.078125 \nL 55.90625 0 \nL 45.3125 0 \nL 29.390625 21.484375 \nL 13.484375 0 \nL 2.875 0 \nL 24.125 28.609375 \nL 4.6875 54.6875 \nL 15.28125 54.6875 \nL 29.78125 35.203125 \nL 44.28125 54.6875 \nz\n\" id=\"DejaVuSans-120\"/>\n     </defs>\n     <g transform=\"translate(213.420313 268.034687)scale(0.1 -0.1)\">\n      <use xlink:href=\"#DejaVuSans-120\"/>\n      <use x=\"59.179688\" xlink:href=\"#DejaVuSans-49\"/>\n     </g>\n    </g>\n   </g>\n   <g id=\"matplotlib.axis_2\">\n    <g id=\"ytick_1\">\n     <g id=\"line2d_7\">\n      <defs>\n       <path d=\"M 0 0 \nL -3.5 0 \n\" id=\"ma9914f8f75\" style=\"stroke:#000000;stroke-width:0.8;\"/>\n      </defs>\n      <g>\n       <use style=\"stroke:#000000;stroke-width:0.8;\" x=\"52.160938\" xlink:href=\"#ma9914f8f75\" y=\"239.758125\"/>\n      </g>\n     </g>\n     <g id=\"text_8\">\n      <!-- −3.0 -->\n      <defs>\n       <path d=\"M 10.6875 12.40625 \nL 21 12.40625 \nL 21 0 \nL 10.6875 0 \nz\n\" id=\"DejaVuSans-46\"/>\n      </defs>\n      <g transform=\"translate(20.878125 243.557344)scale(0.1 -0.1)\">\n       <use xlink:href=\"#DejaVuSans-8722\"/>\n       <use x=\"83.789062\" xlink:href=\"#DejaVuSans-51\"/>\n       <use x=\"147.412109\" xlink:href=\"#DejaVuSans-46\"/>\n       <use x=\"179.199219\" xlink:href=\"#DejaVuSans-48\"/>\n      </g>\n     </g>\n    </g>\n    <g id=\"ytick_2\">\n     <g id=\"line2d_8\">\n      <g>\n       <use style=\"stroke:#000000;stroke-width:0.8;\" x=\"52.160938\" xlink:href=\"#ma9914f8f75\" y=\"211.881202\"/>\n      </g>\n     </g>\n     <g id=\"text_9\">\n      <!-- −2.5 -->\n      <g transform=\"translate(20.878125 215.680421)scale(0.1 -0.1)\">\n       <use xlink:href=\"#DejaVuSans-8722\"/>\n       <use x=\"83.789062\" xlink:href=\"#DejaVuSans-50\"/>\n       <use x=\"147.412109\" xlink:href=\"#DejaVuSans-46\"/>\n       <use x=\"179.199219\" xlink:href=\"#DejaVuSans-53\"/>\n      </g>\n     </g>\n    </g>\n    <g id=\"ytick_3\">\n     <g id=\"line2d_9\">\n      <g>\n       <use style=\"stroke:#000000;stroke-width:0.8;\" x=\"52.160938\" xlink:href=\"#ma9914f8f75\" y=\"184.004279\"/>\n      </g>\n     </g>\n     <g id=\"text_10\">\n      <!-- −2.0 -->\n      <g transform=\"translate(20.878125 187.803497)scale(0.1 -0.1)\">\n       <use xlink:href=\"#DejaVuSans-8722\"/>\n       <use x=\"83.789062\" xlink:href=\"#DejaVuSans-50\"/>\n       <use x=\"147.412109\" xlink:href=\"#DejaVuSans-46\"/>\n       <use x=\"179.199219\" xlink:href=\"#DejaVuSans-48\"/>\n      </g>\n     </g>\n    </g>\n    <g id=\"ytick_4\">\n     <g id=\"line2d_10\">\n      <g>\n       <use style=\"stroke:#000000;stroke-width:0.8;\" x=\"52.160938\" xlink:href=\"#ma9914f8f75\" y=\"156.127355\"/>\n      </g>\n     </g>\n     <g id=\"text_11\">\n      <!-- −1.5 -->\n      <g transform=\"translate(20.878125 159.926574)scale(0.1 -0.1)\">\n       <use xlink:href=\"#DejaVuSans-8722\"/>\n       <use x=\"83.789062\" xlink:href=\"#DejaVuSans-49\"/>\n       <use x=\"147.412109\" xlink:href=\"#DejaVuSans-46\"/>\n       <use x=\"179.199219\" xlink:href=\"#DejaVuSans-53\"/>\n      </g>\n     </g>\n    </g>\n    <g id=\"ytick_5\">\n     <g id=\"line2d_11\">\n      <g>\n       <use style=\"stroke:#000000;stroke-width:0.8;\" x=\"52.160938\" xlink:href=\"#ma9914f8f75\" y=\"128.250432\"/>\n      </g>\n     </g>\n     <g id=\"text_12\">\n      <!-- −1.0 -->\n      <g transform=\"translate(20.878125 132.049651)scale(0.1 -0.1)\">\n       <use xlink:href=\"#DejaVuSans-8722\"/>\n       <use x=\"83.789062\" xlink:href=\"#DejaVuSans-49\"/>\n       <use x=\"147.412109\" xlink:href=\"#DejaVuSans-46\"/>\n       <use x=\"179.199219\" xlink:href=\"#DejaVuSans-48\"/>\n      </g>\n     </g>\n    </g>\n    <g id=\"ytick_6\">\n     <g id=\"line2d_12\">\n      <g>\n       <use style=\"stroke:#000000;stroke-width:0.8;\" x=\"52.160938\" xlink:href=\"#ma9914f8f75\" y=\"100.373509\"/>\n      </g>\n     </g>\n     <g id=\"text_13\">\n      <!-- −0.5 -->\n      <g transform=\"translate(20.878125 104.172728)scale(0.1 -0.1)\">\n       <use xlink:href=\"#DejaVuSans-8722\"/>\n       <use x=\"83.789062\" xlink:href=\"#DejaVuSans-48\"/>\n       <use x=\"147.412109\" xlink:href=\"#DejaVuSans-46\"/>\n       <use x=\"179.199219\" xlink:href=\"#DejaVuSans-53\"/>\n      </g>\n     </g>\n    </g>\n    <g id=\"ytick_7\">\n     <g id=\"line2d_13\">\n      <g>\n       <use style=\"stroke:#000000;stroke-width:0.8;\" x=\"52.160938\" xlink:href=\"#ma9914f8f75\" y=\"72.496586\"/>\n      </g>\n     </g>\n     <g id=\"text_14\">\n      <!-- 0.0 -->\n      <g transform=\"translate(29.257812 76.295804)scale(0.1 -0.1)\">\n       <use xlink:href=\"#DejaVuSans-48\"/>\n       <use x=\"63.623047\" xlink:href=\"#DejaVuSans-46\"/>\n       <use x=\"95.410156\" xlink:href=\"#DejaVuSans-48\"/>\n      </g>\n     </g>\n    </g>\n    <g id=\"ytick_8\">\n     <g id=\"line2d_14\">\n      <g>\n       <use style=\"stroke:#000000;stroke-width:0.8;\" x=\"52.160938\" xlink:href=\"#ma9914f8f75\" y=\"44.619662\"/>\n      </g>\n     </g>\n     <g id=\"text_15\">\n      <!-- 0.5 -->\n      <g transform=\"translate(29.257812 48.418881)scale(0.1 -0.1)\">\n       <use xlink:href=\"#DejaVuSans-48\"/>\n       <use x=\"63.623047\" xlink:href=\"#DejaVuSans-46\"/>\n       <use x=\"95.410156\" xlink:href=\"#DejaVuSans-53\"/>\n      </g>\n     </g>\n    </g>\n    <g id=\"text_16\">\n     <!-- x2 -->\n     <g transform=\"translate(14.798438 137.17875)rotate(-90)scale(0.1 -0.1)\">\n      <use xlink:href=\"#DejaVuSans-120\"/>\n      <use x=\"59.179688\" xlink:href=\"#DejaVuSans-50\"/>\n     </g>\n    </g>\n   </g>\n   <g id=\"LineCollection_1\"/>\n   <g id=\"LineCollection_2\">\n    <path clip-path=\"url(#pa54273b765)\" d=\"M 207.76498 22.318125 \nL 204.277478 27.893508 \nL 203.867193 28.636875 \nL 201.300911 33.468894 \nL 198.734644 39.044276 \nL 198.635948 39.297684 \nL 196.638554 44.619662 \nL 194.926508 50.195047 \nL 193.594913 55.770431 \nL 193.404691 56.885481 \nL 192.670476 61.345816 \nL 192.119819 66.921202 \nL 191.936266 72.496587 \nL 192.119819 78.071971 \nL 192.670476 83.647356 \nL 193.404691 88.10769 \nL 193.594913 89.22274 \nL 194.926508 94.798126 \nL 196.638554 100.373509 \nL 198.635948 105.695487 \nL 198.734644 105.948895 \nL 201.300911 111.524277 \nL 203.867193 116.356293 \nL 204.277477 117.09966 \nL 207.76498 122.675046 \nL 209.098438 124.582416 \nL 211.767443 128.250432 \nL 214.329696 131.436376 \nL 216.333147 133.825818 \nL 219.560941 137.34073 \nL 221.537188 139.401197 \nL 224.792186 142.523419 \nL 227.468633 144.976583 \nL 230.023443 147.144799 \nL 234.233956 150.551969 \nL 235.254688 151.320987 \nL 240.485939 155.069958 \nL 242.041172 156.127355 \nL 245.717191 158.465419 \nL 250.948442 161.612814 \nL 251.106968 161.702741 \nL 256.179693 164.405957 \nL 261.410938 167.024695 \nL 261.952114 167.278127 \nL 266.64219 169.348982 \nL 271.873441 171.49949 \nL 275.430696 172.853513 \nL 277.104686 173.456253 \nL 282.335937 175.189145 \nL 287.567188 176.771344 \nL 292.79844 178.202865 \nL 293.721622 178.428899 \nL 298.029688 179.429604 \nL 303.260939 180.501795 \nL 308.49219 181.431025 \nL 313.723438 182.217296 \nL 318.95469 182.860611 \nL 324.185939 183.360964 \nL 329.417189 183.718362 \nL 334.648439 183.932798 \nL 339.879689 184.004279 \nL 345.110939 183.932798 \nL 350.342189 183.718362 \nL 355.573439 183.360964 \nL 360.804689 182.860611 \nL 366.035939 182.217296 \nL 371.26719 181.431025 \nL 376.498438 180.501795 \nL 381.729689 179.429604 \nL 386.037755 178.428899 \nL 386.960938 178.202865 \n\" style=\"fill:none;stroke:#46327e;stroke-width:1.5;\"/>\n   </g>\n   <g id=\"LineCollection_3\">\n    <path clip-path=\"url(#pa54273b765)\" d=\"M 141.510688 22.318125 \nL 141.092178 23.302038 \nL 139.189916 27.893508 \nL 137.151764 33.468894 \nL 135.860933 37.543235 \nL 135.397412 39.044276 \nL 133.940606 44.619662 \nL 132.748674 50.195047 \nL 131.82162 55.770431 \nL 131.159434 61.345816 \nL 130.762127 66.921202 \nL 130.6297 72.496055 \nL 130.629688 72.496587 \nL 130.6297 72.497119 \nL 130.762127 78.071971 \nL 131.159434 83.647356 \nL 131.82162 89.22274 \nL 132.748674 94.798126 \nL 133.940606 100.373509 \nL 135.397412 105.948895 \nL 135.860933 107.449936 \nL 137.151764 111.524277 \nL 139.189916 117.09966 \nL 141.092178 121.691132 \nL 141.510688 122.675046 \nL 144.161191 128.250432 \nL 146.323435 132.36559 \nL 147.11171 133.825818 \nL 150.408107 139.401197 \nL 151.55468 141.185319 \nL 154.059787 144.976583 \nL 156.785938 148.796757 \nL 158.074797 150.551969 \nL 162.017183 155.550579 \nL 162.485663 156.127355 \nL 167.248428 161.612797 \nL 167.328926 161.702741 \nL 172.479685 167.109172 \nL 172.645761 167.278127 \nL 177.710943 172.136677 \nL 178.482768 172.853513 \nL 182.942188 176.771344 \nL 184.89283 178.428899 \nL 188.173445 181.073634 \nL 191.936271 184.004279 \nL 193.404691 185.092157 \nL 198.635948 188.83175 \nL 199.721685 189.579671 \nL 203.867193 192.302532 \nL 208.380425 195.15505 \nL 209.098438 195.588689 \nL 214.329696 198.624176 \nL 218.114 200.73043 \nL 219.560941 201.501494 \nL 224.792186 204.170563 \nL 229.171847 206.305822 \nL 230.023443 206.704062 \nL 235.254688 209.036619 \nL 240.485939 211.255391 \nL 242.041181 211.881202 \nL 245.717191 213.30238 \nL 250.948442 215.215505 \nL 256.179693 217.019307 \nL 257.529661 217.456581 \nL 261.410938 218.66634 \nL 266.64219 220.191681 \nL 271.873441 221.611827 \nL 277.104686 222.926775 \nL 277.559589 223.031974 \nL 282.335937 224.096361 \nL 287.567188 225.160752 \nL 292.79844 226.123773 \nL 298.029688 226.985424 \nL 303.260939 227.745703 \nL 308.49219 228.404617 \nL 310.394421 228.607353 \nL 313.723438 228.949704 \nL 318.95469 229.389867 \nL 324.185939 229.732213 \nL 329.417189 229.976747 \nL 334.648439 230.123468 \nL 339.879689 230.172376 \nL 345.110939 230.123468 \nL 350.342189 229.976747 \nL 355.573439 229.732213 \nL 360.804689 229.389867 \nL 366.035939 228.949704 \nL 369.364958 228.607353 \nL 371.26719 228.404617 \nL 376.498438 227.745703 \nL 381.729689 226.985424 \nL 386.960938 226.123773 \n\" style=\"fill:none;stroke:#365c8d;stroke-width:1.5;\"/>\n   </g>\n   <g id=\"LineCollection_4\">\n    <path clip-path=\"url(#pa54273b765)\" d=\"M 92.41403 22.318125 \nL 90.541794 27.893508 \nL 88.889812 33.468894 \nL 88.779678 33.897779 \nL 87.485349 39.044276 \nL 86.298884 44.619662 \nL 85.328135 50.195047 \nL 84.573113 55.770431 \nL 84.033807 61.345816 \nL 83.710228 66.921202 \nL 83.602364 72.496587 \nL 83.710228 78.071971 \nL 84.033807 83.647356 \nL 84.573113 89.22274 \nL 85.328135 94.798126 \nL 86.298884 100.373509 \nL 87.485349 105.948895 \nL 88.779678 111.095392 \nL 88.889812 111.524277 \nL 90.541794 117.09966 \nL 92.41403 122.675046 \nL 94.010948 126.929969 \nL 94.517188 128.250432 \nL 96.87969 133.825818 \nL 99.242193 138.916393 \nL 99.472132 139.401197 \nL 102.346443 144.976583 \nL 104.473438 148.796757 \nL 105.472666 150.551969 \nL 108.881795 156.127355 \nL 109.704708 157.38634 \nL 112.590901 161.702741 \nL 114.935953 164.997299 \nL 116.597633 167.278127 \nL 120.167198 171.897742 \nL 120.923517 172.853513 \nL 125.398443 178.202865 \nL 125.592197 178.428899 \nL 130.629688 184.004279 \nL 130.6297 184.004291 \nL 135.860933 189.375676 \nL 136.064765 189.579671 \nL 141.092178 194.377073 \nL 141.929196 195.15505 \nL 146.323435 199.057812 \nL 148.258284 200.73043 \nL 151.55468 203.458806 \nL 155.091311 206.305822 \nL 156.785938 207.614328 \nL 162.017183 211.539844 \nL 162.485663 211.881202 \nL 167.248428 215.215495 \nL 170.548135 217.456581 \nL 172.479685 218.718939 \nL 177.710943 222.032611 \nL 179.340355 223.031974 \nL 182.942188 225.160749 \nL 188.173445 228.151194 \nL 188.999416 228.607353 \nL 193.404691 230.954887 \nL 198.635948 233.644768 \nL 199.721687 234.182746 \nL 203.867193 236.1672 \nL 209.098438 238.576899 \nL 211.767438 239.758125 \n\" style=\"fill:none;stroke:#277f8e;stroke-width:1.5;\"/>\n   </g>\n   <g id=\"LineCollection_5\">\n    <path clip-path=\"url(#pa54273b765)\" d=\"M 52.160937 124.582425 \nL 53.360766 128.250432 \nL 55.376475 133.825818 \nL 57.392183 138.91637 \nL 57.587748 139.401197 \nL 60.032255 144.976583 \nL 62.623428 150.4487 \nL 62.67326 150.551969 \nL 65.562904 156.127355 \nL 67.854698 160.263965 \nL 68.6673 161.702741 \nL 72.01937 167.278127 \nL 73.085943 168.950754 \nL 75.623866 172.853513 \nL 78.317188 176.771347 \nL 79.479693 178.428899 \nL 83.548433 183.932784 \nL 83.602374 184.004279 \nL 88.024666 189.579671 \nL 88.779678 190.487276 \nL 92.744425 195.15505 \nL 94.010948 196.579879 \nL 97.77969 200.73043 \nL 99.242193 202.27256 \nL 103.151257 206.305822 \nL 104.473438 207.614328 \nL 108.881795 211.881202 \nL 109.704708 212.646467 \nL 114.935953 217.40195 \nL 114.997463 217.456581 \nL 120.167198 221.874832 \nL 121.55378 223.031974 \nL 125.398443 226.123782 \nL 128.563011 228.607353 \nL 130.6297 230.172388 \nL 135.860933 234.036013 \nL 136.064765 234.182746 \nL 141.092178 237.679159 \nL 144.161191 239.758125 \n\" style=\"fill:none;stroke:#1fa187;stroke-width:1.5;\"/>\n   </g>\n   <g id=\"LineCollection_6\">\n    <path clip-path=\"url(#pa54273b765)\" d=\"M 52.160937 195.588688 \nL 56.144371 200.73043 \nL 57.392183 202.272552 \nL 60.716715 206.305822 \nL 62.623428 208.524585 \nL 65.562904 211.881202 \nL 67.854698 214.395603 \nL 70.698861 217.456581 \nL 73.085943 219.928692 \nL 76.141824 223.031974 \nL 78.317188 225.160749 \nL 81.910362 228.607353 \nL 83.548433 230.123471 \nL 88.024657 234.182746 \nL 88.779678 234.844228 \nL 94.010948 239.3329 \nL 94.517178 239.758125 \n\" style=\"fill:none;stroke:#4ac16d;stroke-width:1.5;\"/>\n   </g>\n   <g id=\"LineCollection_7\">\n    <path clip-path=\"url(#pa54273b765)\" d=\"M 52.160937 238.576901 \nL 53.360768 239.758125 \n\" style=\"fill:none;stroke:#a0da39;stroke-width:1.5;\"/>\n   </g>\n   <g id=\"LineCollection_8\"/>\n   <g id=\"line2d_15\">\n    <path clip-path=\"url(#pa54273b765)\" d=\"M 78.317188 184.004279 \nL 130.629688 139.401201 \nL 172.479688 112.639355 \nL 205.959688 96.582247 \nL 232.743688 86.947983 \nL 254.170888 81.167424 \nL 271.312648 77.699088 \nL 285.026056 75.618087 \nL 295.996783 74.369487 \nL 304.773364 73.620326 \nL 311.794629 73.17083 \nL 317.411641 72.901132 \nL 321.90525 72.739313 \nL 325.500138 72.642222 \nL 328.376048 72.583968 \nL 330.676776 72.549015 \nL 332.517359 72.528043 \nL 333.989825 72.51546 \nL 335.167797 72.50791 \nL 336.110176 72.50338 \nL 336.864078 72.500662 \n\" style=\"fill:none;stroke:#ff0000;stroke-linecap:square;stroke-width:1.5;\"/>\n    <defs>\n     <path d=\"M 0 3 \nC 0.795609 3 1.55874 2.683901 2.12132 2.12132 \nC 2.683901 1.55874 3 0.795609 3 0 \nC 3 -0.795609 2.683901 -1.55874 2.12132 -2.12132 \nC 1.55874 -2.683901 0.795609 -3 0 -3 \nC -0.795609 -3 -1.55874 -2.683901 -2.12132 -2.12132 \nC -2.683901 -1.55874 -3 -0.795609 -3 0 \nC -3 0.795609 -2.683901 1.55874 -2.12132 2.12132 \nC -1.55874 2.683901 -0.795609 3 0 3 \nz\n\" id=\"m0f24d72e21\" style=\"stroke:#ff0000;\"/>\n    </defs>\n    <g clip-path=\"url(#pa54273b765)\">\n     <use style=\"fill:#ff0000;stroke:#ff0000;\" x=\"78.317188\" xlink:href=\"#m0f24d72e21\" y=\"184.004279\"/>\n     <use style=\"fill:#ff0000;stroke:#ff0000;\" x=\"130.629688\" xlink:href=\"#m0f24d72e21\" y=\"139.401201\"/>\n     <use style=\"fill:#ff0000;stroke:#ff0000;\" x=\"172.479688\" xlink:href=\"#m0f24d72e21\" y=\"112.639355\"/>\n     <use style=\"fill:#ff0000;stroke:#ff0000;\" x=\"205.959688\" xlink:href=\"#m0f24d72e21\" y=\"96.582247\"/>\n     <use style=\"fill:#ff0000;stroke:#ff0000;\" x=\"232.743688\" xlink:href=\"#m0f24d72e21\" y=\"86.947983\"/>\n     <use style=\"fill:#ff0000;stroke:#ff0000;\" x=\"254.170888\" xlink:href=\"#m0f24d72e21\" y=\"81.167424\"/>\n     <use style=\"fill:#ff0000;stroke:#ff0000;\" x=\"271.312648\" xlink:href=\"#m0f24d72e21\" y=\"77.699088\"/>\n     <use style=\"fill:#ff0000;stroke:#ff0000;\" x=\"285.026056\" xlink:href=\"#m0f24d72e21\" y=\"75.618087\"/>\n     <use style=\"fill:#ff0000;stroke:#ff0000;\" x=\"295.996783\" xlink:href=\"#m0f24d72e21\" y=\"74.369487\"/>\n     <use style=\"fill:#ff0000;stroke:#ff0000;\" x=\"304.773364\" xlink:href=\"#m0f24d72e21\" y=\"73.620326\"/>\n     <use style=\"fill:#ff0000;stroke:#ff0000;\" x=\"311.794629\" xlink:href=\"#m0f24d72e21\" y=\"73.17083\"/>\n     <use style=\"fill:#ff0000;stroke:#ff0000;\" x=\"317.411641\" xlink:href=\"#m0f24d72e21\" y=\"72.901132\"/>\n     <use style=\"fill:#ff0000;stroke:#ff0000;\" x=\"321.90525\" xlink:href=\"#m0f24d72e21\" y=\"72.739313\"/>\n     <use style=\"fill:#ff0000;stroke:#ff0000;\" x=\"325.500138\" xlink:href=\"#m0f24d72e21\" y=\"72.642222\"/>\n     <use style=\"fill:#ff0000;stroke:#ff0000;\" x=\"328.376048\" xlink:href=\"#m0f24d72e21\" y=\"72.583968\"/>\n     <use style=\"fill:#ff0000;stroke:#ff0000;\" x=\"330.676776\" xlink:href=\"#m0f24d72e21\" y=\"72.549015\"/>\n     <use style=\"fill:#ff0000;stroke:#ff0000;\" x=\"332.517359\" xlink:href=\"#m0f24d72e21\" y=\"72.528043\"/>\n     <use style=\"fill:#ff0000;stroke:#ff0000;\" x=\"333.989825\" xlink:href=\"#m0f24d72e21\" y=\"72.51546\"/>\n     <use style=\"fill:#ff0000;stroke:#ff0000;\" x=\"335.167797\" xlink:href=\"#m0f24d72e21\" y=\"72.50791\"/>\n     <use style=\"fill:#ff0000;stroke:#ff0000;\" x=\"336.110176\" xlink:href=\"#m0f24d72e21\" y=\"72.50338\"/>\n     <use style=\"fill:#ff0000;stroke:#ff0000;\" x=\"336.864078\" xlink:href=\"#m0f24d72e21\" y=\"72.500662\"/>\n    </g>\n   </g>\n   <g id=\"patch_3\">\n    <path d=\"M 52.160938 239.758125 \nL 52.160938 22.318125 \n\" style=\"fill:none;stroke:#000000;stroke-linecap:square;stroke-linejoin:miter;stroke-width:0.8;\"/>\n   </g>\n   <g id=\"patch_4\">\n    <path d=\"M 386.960938 239.758125 \nL 386.960938 22.318125 \n\" style=\"fill:none;stroke:#000000;stroke-linecap:square;stroke-linejoin:miter;stroke-width:0.8;\"/>\n   </g>\n   <g id=\"patch_5\">\n    <path d=\"M 52.160937 239.758125 \nL 386.960938 239.758125 \n\" style=\"fill:none;stroke:#000000;stroke-linecap:square;stroke-linejoin:miter;stroke-width:0.8;\"/>\n   </g>\n   <g id=\"patch_6\">\n    <path d=\"M 52.160937 22.318125 \nL 386.960938 22.318125 \n\" style=\"fill:none;stroke:#000000;stroke-linecap:square;stroke-linejoin:miter;stroke-width:0.8;\"/>\n   </g>\n   <g id=\"text_17\">\n    <!-- Gradient Descent -->\n    <defs>\n     <path d=\"M 59.515625 10.40625 \nL 59.515625 29.984375 \nL 43.40625 29.984375 \nL 43.40625 38.09375 \nL 69.28125 38.09375 \nL 69.28125 6.78125 \nQ 63.578125 2.734375 56.6875 0.65625 \nQ 49.8125 -1.421875 42 -1.421875 \nQ 24.90625 -1.421875 15.25 8.5625 \nQ 5.609375 18.5625 5.609375 36.375 \nQ 5.609375 54.25 15.25 64.234375 \nQ 24.90625 74.21875 42 74.21875 \nQ 49.125 74.21875 55.546875 72.453125 \nQ 61.96875 70.703125 67.390625 67.28125 \nL 67.390625 56.78125 \nQ 61.921875 61.421875 55.765625 63.765625 \nQ 49.609375 66.109375 42.828125 66.109375 \nQ 29.4375 66.109375 22.71875 58.640625 \nQ 16.015625 51.171875 16.015625 36.375 \nQ 16.015625 21.625 22.71875 14.15625 \nQ 29.4375 6.6875 42.828125 6.6875 \nQ 48.046875 6.6875 52.140625 7.59375 \nQ 56.25 8.5 59.515625 10.40625 \nz\n\" id=\"DejaVuSans-71\"/>\n     <path d=\"M 41.109375 46.296875 \nQ 39.59375 47.171875 37.8125 47.578125 \nQ 36.03125 48 33.890625 48 \nQ 26.265625 48 22.1875 43.046875 \nQ 18.109375 38.09375 18.109375 28.8125 \nL 18.109375 0 \nL 9.078125 0 \nL 9.078125 54.6875 \nL 18.109375 54.6875 \nL 18.109375 46.1875 \nQ 20.953125 51.171875 25.484375 53.578125 \nQ 30.03125 56 36.53125 56 \nQ 37.453125 56 38.578125 55.875 \nQ 39.703125 55.765625 41.0625 55.515625 \nz\n\" id=\"DejaVuSans-114\"/>\n     <path d=\"M 34.28125 27.484375 \nQ 23.390625 27.484375 19.1875 25 \nQ 14.984375 22.515625 14.984375 16.5 \nQ 14.984375 11.71875 18.140625 8.90625 \nQ 21.296875 6.109375 26.703125 6.109375 \nQ 34.1875 6.109375 38.703125 11.40625 \nQ 43.21875 16.703125 43.21875 25.484375 \nL 43.21875 27.484375 \nz\nM 52.203125 31.203125 \nL 52.203125 0 \nL 43.21875 0 \nL 43.21875 8.296875 \nQ 40.140625 3.328125 35.546875 0.953125 \nQ 30.953125 -1.421875 24.3125 -1.421875 \nQ 15.921875 -1.421875 10.953125 3.296875 \nQ 6 8.015625 6 15.921875 \nQ 6 25.140625 12.171875 29.828125 \nQ 18.359375 34.515625 30.609375 34.515625 \nL 43.21875 34.515625 \nL 43.21875 35.40625 \nQ 43.21875 41.609375 39.140625 45 \nQ 35.0625 48.390625 27.6875 48.390625 \nQ 23 48.390625 18.546875 47.265625 \nQ 14.109375 46.140625 10.015625 43.890625 \nL 10.015625 52.203125 \nQ 14.9375 54.109375 19.578125 55.046875 \nQ 24.21875 56 28.609375 56 \nQ 40.484375 56 46.34375 49.84375 \nQ 52.203125 43.703125 52.203125 31.203125 \nz\n\" id=\"DejaVuSans-97\"/>\n     <path d=\"M 45.40625 46.390625 \nL 45.40625 75.984375 \nL 54.390625 75.984375 \nL 54.390625 0 \nL 45.40625 0 \nL 45.40625 8.203125 \nQ 42.578125 3.328125 38.25 0.953125 \nQ 33.9375 -1.421875 27.875 -1.421875 \nQ 17.96875 -1.421875 11.734375 6.484375 \nQ 5.515625 14.40625 5.515625 27.296875 \nQ 5.515625 40.1875 11.734375 48.09375 \nQ 17.96875 56 27.875 56 \nQ 33.9375 56 38.25 53.625 \nQ 42.578125 51.265625 45.40625 46.390625 \nz\nM 14.796875 27.296875 \nQ 14.796875 17.390625 18.875 11.75 \nQ 22.953125 6.109375 30.078125 6.109375 \nQ 37.203125 6.109375 41.296875 11.75 \nQ 45.40625 17.390625 45.40625 27.296875 \nQ 45.40625 37.203125 41.296875 42.84375 \nQ 37.203125 48.484375 30.078125 48.484375 \nQ 22.953125 48.484375 18.875 42.84375 \nQ 14.796875 37.203125 14.796875 27.296875 \nz\n\" id=\"DejaVuSans-100\"/>\n     <path d=\"M 9.421875 54.6875 \nL 18.40625 54.6875 \nL 18.40625 0 \nL 9.421875 0 \nz\nM 9.421875 75.984375 \nL 18.40625 75.984375 \nL 18.40625 64.59375 \nL 9.421875 64.59375 \nz\n\" id=\"DejaVuSans-105\"/>\n     <path d=\"M 56.203125 29.59375 \nL 56.203125 25.203125 \nL 14.890625 25.203125 \nQ 15.484375 15.921875 20.484375 11.0625 \nQ 25.484375 6.203125 34.421875 6.203125 \nQ 39.59375 6.203125 44.453125 7.46875 \nQ 49.3125 8.734375 54.109375 11.28125 \nL 54.109375 2.78125 \nQ 49.265625 0.734375 44.1875 -0.34375 \nQ 39.109375 -1.421875 33.890625 -1.421875 \nQ 20.796875 -1.421875 13.15625 6.1875 \nQ 5.515625 13.8125 5.515625 26.8125 \nQ 5.515625 40.234375 12.765625 48.109375 \nQ 20.015625 56 32.328125 56 \nQ 43.359375 56 49.78125 48.890625 \nQ 56.203125 41.796875 56.203125 29.59375 \nz\nM 47.21875 32.234375 \nQ 47.125 39.59375 43.09375 43.984375 \nQ 39.0625 48.390625 32.421875 48.390625 \nQ 24.90625 48.390625 20.390625 44.140625 \nQ 15.875 39.890625 15.1875 32.171875 \nz\n\" id=\"DejaVuSans-101\"/>\n     <path d=\"M 54.890625 33.015625 \nL 54.890625 0 \nL 45.90625 0 \nL 45.90625 32.71875 \nQ 45.90625 40.484375 42.875 44.328125 \nQ 39.84375 48.1875 33.796875 48.1875 \nQ 26.515625 48.1875 22.3125 43.546875 \nQ 18.109375 38.921875 18.109375 30.90625 \nL 18.109375 0 \nL 9.078125 0 \nL 9.078125 54.6875 \nL 18.109375 54.6875 \nL 18.109375 46.1875 \nQ 21.34375 51.125 25.703125 53.5625 \nQ 30.078125 56 35.796875 56 \nQ 45.21875 56 50.046875 50.171875 \nQ 54.890625 44.34375 54.890625 33.015625 \nz\n\" id=\"DejaVuSans-110\"/>\n     <path d=\"M 18.3125 70.21875 \nL 18.3125 54.6875 \nL 36.8125 54.6875 \nL 36.8125 47.703125 \nL 18.3125 47.703125 \nL 18.3125 18.015625 \nQ 18.3125 11.328125 20.140625 9.421875 \nQ 21.96875 7.515625 27.59375 7.515625 \nL 36.8125 7.515625 \nL 36.8125 0 \nL 27.59375 0 \nQ 17.1875 0 13.234375 3.875 \nQ 9.28125 7.765625 9.28125 18.015625 \nL 9.28125 47.703125 \nL 2.6875 47.703125 \nL 2.6875 54.6875 \nL 9.28125 54.6875 \nL 9.28125 70.21875 \nz\n\" id=\"DejaVuSans-116\"/>\n     <path id=\"DejaVuSans-32\"/>\n     <path d=\"M 19.671875 64.796875 \nL 19.671875 8.109375 \nL 31.59375 8.109375 \nQ 46.6875 8.109375 53.6875 14.9375 \nQ 60.6875 21.78125 60.6875 36.53125 \nQ 60.6875 51.171875 53.6875 57.984375 \nQ 46.6875 64.796875 31.59375 64.796875 \nz\nM 9.8125 72.90625 \nL 30.078125 72.90625 \nQ 51.265625 72.90625 61.171875 64.09375 \nQ 71.09375 55.28125 71.09375 36.53125 \nQ 71.09375 17.671875 61.125 8.828125 \nQ 51.171875 0 30.078125 0 \nL 9.8125 0 \nz\n\" id=\"DejaVuSans-68\"/>\n     <path d=\"M 44.28125 53.078125 \nL 44.28125 44.578125 \nQ 40.484375 46.53125 36.375 47.5 \nQ 32.28125 48.484375 27.875 48.484375 \nQ 21.1875 48.484375 17.84375 46.4375 \nQ 14.5 44.390625 14.5 40.28125 \nQ 14.5 37.15625 16.890625 35.375 \nQ 19.28125 33.59375 26.515625 31.984375 \nL 29.59375 31.296875 \nQ 39.15625 29.25 43.1875 25.515625 \nQ 47.21875 21.78125 47.21875 15.09375 \nQ 47.21875 7.46875 41.1875 3.015625 \nQ 35.15625 -1.421875 24.609375 -1.421875 \nQ 20.21875 -1.421875 15.453125 -0.5625 \nQ 10.6875 0.296875 5.421875 2 \nL 5.421875 11.28125 \nQ 10.40625 8.6875 15.234375 7.390625 \nQ 20.0625 6.109375 24.8125 6.109375 \nQ 31.15625 6.109375 34.5625 8.28125 \nQ 37.984375 10.453125 37.984375 14.40625 \nQ 37.984375 18.0625 35.515625 20.015625 \nQ 33.0625 21.96875 24.703125 23.78125 \nL 21.578125 24.515625 \nQ 13.234375 26.265625 9.515625 29.90625 \nQ 5.8125 33.546875 5.8125 39.890625 \nQ 5.8125 47.609375 11.28125 51.796875 \nQ 16.75 56 26.8125 56 \nQ 31.78125 56 36.171875 55.265625 \nQ 40.578125 54.546875 44.28125 53.078125 \nz\n\" id=\"DejaVuSans-115\"/>\n     <path d=\"M 48.78125 52.59375 \nL 48.78125 44.1875 \nQ 44.96875 46.296875 41.140625 47.34375 \nQ 37.3125 48.390625 33.40625 48.390625 \nQ 24.65625 48.390625 19.8125 42.84375 \nQ 14.984375 37.3125 14.984375 27.296875 \nQ 14.984375 17.28125 19.8125 11.734375 \nQ 24.65625 6.203125 33.40625 6.203125 \nQ 37.3125 6.203125 41.140625 7.25 \nQ 44.96875 8.296875 48.78125 10.40625 \nL 48.78125 2.09375 \nQ 45.015625 0.34375 40.984375 -0.53125 \nQ 36.96875 -1.421875 32.421875 -1.421875 \nQ 20.0625 -1.421875 12.78125 6.34375 \nQ 5.515625 14.109375 5.515625 27.296875 \nQ 5.515625 40.671875 12.859375 48.328125 \nQ 20.21875 56 33.015625 56 \nQ 37.15625 56 41.109375 55.140625 \nQ 45.0625 54.296875 48.78125 52.59375 \nz\n\" id=\"DejaVuSans-99\"/>\n    </defs>\n    <g transform=\"translate(166.955938 16.318125)scale(0.12 -0.12)\">\n     <use xlink:href=\"#DejaVuSans-71\"/>\n     <use x=\"77.490234\" xlink:href=\"#DejaVuSans-114\"/>\n     <use x=\"118.603516\" xlink:href=\"#DejaVuSans-97\"/>\n     <use x=\"179.882812\" xlink:href=\"#DejaVuSans-100\"/>\n     <use x=\"243.359375\" xlink:href=\"#DejaVuSans-105\"/>\n     <use x=\"271.142578\" xlink:href=\"#DejaVuSans-101\"/>\n     <use x=\"332.666016\" xlink:href=\"#DejaVuSans-110\"/>\n     <use x=\"396.044922\" xlink:href=\"#DejaVuSans-116\"/>\n     <use x=\"435.253906\" xlink:href=\"#DejaVuSans-32\"/>\n     <use x=\"467.041016\" xlink:href=\"#DejaVuSans-68\"/>\n     <use x=\"544.042969\" xlink:href=\"#DejaVuSans-101\"/>\n     <use x=\"605.566406\" xlink:href=\"#DejaVuSans-115\"/>\n     <use x=\"657.666016\" xlink:href=\"#DejaVuSans-99\"/>\n     <use x=\"712.646484\" xlink:href=\"#DejaVuSans-101\"/>\n     <use x=\"774.169922\" xlink:href=\"#DejaVuSans-110\"/>\n     <use x=\"837.548828\" xlink:href=\"#DejaVuSans-116\"/>\n    </g>\n   </g>\n  </g>\n </g>\n <defs>\n  <clipPath id=\"pa54273b765\">\n   <rect height=\"217.44\" width=\"334.8\" x=\"52.160938\" y=\"22.318125\"/>\n  </clipPath>\n </defs>\n</svg>\n"
          },
          "metadata": {
            "needs_background": "light"
          }
        }
      ]
    },
    {
      "cell_type": "code",
      "source": [
        "f = lambda x1, x2: x1**2 + 2 * x2**2\n",
        "gradf = lambda x1, x2: (2 * x1, 4 * x2)\n",
        "\n",
        "    \n",
        "def sgd(x1, x2, s1, s2):\n",
        "  global lr\n",
        "  (g1, g2) = gradf(x1, x2)\n",
        "  # Simulate noisy gradient\n",
        "  g1 += torch.normal(0.0, 1, (1,))\n",
        "  g2 += torch.normal(0.0, 1, (1,))\n",
        "  eta_t = eta * lr()\n",
        "  return (x1 - eta * g1, x2 - eta * g2, 0, 0)\n",
        "\n",
        "eta = 0.1\n",
        "lr = (lambda: 1)\n",
        "plt.title(\"Stohastic Gradient Descent\")\n",
        "show_trace_2d(f, train_2d(sgd, steps=150))"
      ],
      "metadata": {
        "colab": {
          "base_uri": "https://localhost:8080/",
          "height": 317
        },
        "id": "BQFMOgpX1_M2",
        "outputId": "618274a7-b4bc-4d81-9a94-90d2f5688c82"
      },
      "execution_count": null,
      "outputs": [
        {
          "output_type": "stream",
          "name": "stderr",
          "text": [
            "<ipython-input-3-bf104f76876e>:16: UserWarning: The following kwargs were not used by contour: 'color'\n",
            "  d2l.plt.contour(x1, x2, f(x1, x2), color=\"blue\")\n"
          ]
        },
        {
          "output_type": "display_data",
          "data": {
            "text/plain": [
              "<Figure size 252x180 with 1 Axes>"
            ],
            "image/svg+xml": "<?xml version=\"1.0\" encoding=\"utf-8\" standalone=\"no\"?>\n<!DOCTYPE svg PUBLIC \"-//W3C//DTD SVG 1.1//EN\"\n  \"http://www.w3.org/Graphics/SVG/1.1/DTD/svg11.dtd\">\n<!-- Created with matplotlib (https://matplotlib.org/) -->\n<svg height=\"195.774375pt\" version=\"1.1\" viewBox=\"0 0 245.120313 195.774375\" width=\"245.120313pt\" xmlns=\"http://www.w3.org/2000/svg\" xmlns:xlink=\"http://www.w3.org/1999/xlink\">\n <defs>\n  <style type=\"text/css\">\n*{stroke-linecap:butt;stroke-linejoin:round;}\n  </style>\n </defs>\n <g id=\"figure_1\">\n  <g id=\"patch_1\">\n   <path d=\"M 0 195.774375 \nL 245.120313 195.774375 \nL 245.120313 0 \nL 0 0 \nz\n\" style=\"fill:none;\"/>\n  </g>\n  <g id=\"axes_1\">\n   <g id=\"patch_2\">\n    <path d=\"M 42.620312 158.218125 \nL 237.920313 158.218125 \nL 237.920313 22.318125 \nL 42.620312 22.318125 \nz\n\" style=\"fill:#ffffff;\"/>\n   </g>\n   <g id=\"matplotlib.axis_1\">\n    <g id=\"xtick_1\">\n     <g id=\"line2d_1\">\n      <defs>\n       <path d=\"M 0 0 \nL 0 3.5 \n\" id=\"m8b8bcdf919\" style=\"stroke:#000000;stroke-width:0.8;\"/>\n      </defs>\n      <g>\n       <use style=\"stroke:#000000;stroke-width:0.8;\" x=\"88.39375\" xlink:href=\"#m8b8bcdf919\" y=\"158.218125\"/>\n      </g>\n     </g>\n     <g id=\"text_1\">\n      <!-- −4 -->\n      <defs>\n       <path d=\"M 10.59375 35.5 \nL 73.1875 35.5 \nL 73.1875 27.203125 \nL 10.59375 27.203125 \nz\n\" id=\"DejaVuSans-8722\"/>\n       <path d=\"M 37.796875 64.3125 \nL 12.890625 25.390625 \nL 37.796875 25.390625 \nz\nM 35.203125 72.90625 \nL 47.609375 72.90625 \nL 47.609375 25.390625 \nL 58.015625 25.390625 \nL 58.015625 17.1875 \nL 47.609375 17.1875 \nL 47.609375 0 \nL 37.796875 0 \nL 37.796875 17.1875 \nL 4.890625 17.1875 \nL 4.890625 26.703125 \nz\n\" id=\"DejaVuSans-52\"/>\n      </defs>\n      <g transform=\"translate(81.022656 172.816562)scale(0.1 -0.1)\">\n       <use xlink:href=\"#DejaVuSans-8722\"/>\n       <use x=\"83.789062\" xlink:href=\"#DejaVuSans-52\"/>\n      </g>\n     </g>\n    </g>\n    <g id=\"xtick_2\">\n     <g id=\"line2d_2\">\n      <g>\n       <use style=\"stroke:#000000;stroke-width:0.8;\" x=\"149.425\" xlink:href=\"#m8b8bcdf919\" y=\"158.218125\"/>\n      </g>\n     </g>\n     <g id=\"text_2\">\n      <!-- −2 -->\n      <defs>\n       <path d=\"M 19.1875 8.296875 \nL 53.609375 8.296875 \nL 53.609375 0 \nL 7.328125 0 \nL 7.328125 8.296875 \nQ 12.9375 14.109375 22.625 23.890625 \nQ 32.328125 33.6875 34.8125 36.53125 \nQ 39.546875 41.84375 41.421875 45.53125 \nQ 43.3125 49.21875 43.3125 52.78125 \nQ 43.3125 58.59375 39.234375 62.25 \nQ 35.15625 65.921875 28.609375 65.921875 \nQ 23.96875 65.921875 18.8125 64.3125 \nQ 13.671875 62.703125 7.8125 59.421875 \nL 7.8125 69.390625 \nQ 13.765625 71.78125 18.9375 73 \nQ 24.125 74.21875 28.421875 74.21875 \nQ 39.75 74.21875 46.484375 68.546875 \nQ 53.21875 62.890625 53.21875 53.421875 \nQ 53.21875 48.921875 51.53125 44.890625 \nQ 49.859375 40.875 45.40625 35.40625 \nQ 44.1875 33.984375 37.640625 27.21875 \nQ 31.109375 20.453125 19.1875 8.296875 \nz\n\" id=\"DejaVuSans-50\"/>\n      </defs>\n      <g transform=\"translate(142.053907 172.816562)scale(0.1 -0.1)\">\n       <use xlink:href=\"#DejaVuSans-8722\"/>\n       <use x=\"83.789062\" xlink:href=\"#DejaVuSans-50\"/>\n      </g>\n     </g>\n    </g>\n    <g id=\"xtick_3\">\n     <g id=\"line2d_3\">\n      <g>\n       <use style=\"stroke:#000000;stroke-width:0.8;\" x=\"210.456251\" xlink:href=\"#m8b8bcdf919\" y=\"158.218125\"/>\n      </g>\n     </g>\n     <g id=\"text_3\">\n      <!-- 0 -->\n      <defs>\n       <path d=\"M 31.78125 66.40625 \nQ 24.171875 66.40625 20.328125 58.90625 \nQ 16.5 51.421875 16.5 36.375 \nQ 16.5 21.390625 20.328125 13.890625 \nQ 24.171875 6.390625 31.78125 6.390625 \nQ 39.453125 6.390625 43.28125 13.890625 \nQ 47.125 21.390625 47.125 36.375 \nQ 47.125 51.421875 43.28125 58.90625 \nQ 39.453125 66.40625 31.78125 66.40625 \nz\nM 31.78125 74.21875 \nQ 44.046875 74.21875 50.515625 64.515625 \nQ 56.984375 54.828125 56.984375 36.375 \nQ 56.984375 17.96875 50.515625 8.265625 \nQ 44.046875 -1.421875 31.78125 -1.421875 \nQ 19.53125 -1.421875 13.0625 8.265625 \nQ 6.59375 17.96875 6.59375 36.375 \nQ 6.59375 54.828125 13.0625 64.515625 \nQ 19.53125 74.21875 31.78125 74.21875 \nz\n\" id=\"DejaVuSans-48\"/>\n      </defs>\n      <g transform=\"translate(207.275001 172.816562)scale(0.1 -0.1)\">\n       <use xlink:href=\"#DejaVuSans-48\"/>\n      </g>\n     </g>\n    </g>\n    <g id=\"text_4\">\n     <!-- x1 -->\n     <defs>\n      <path d=\"M 54.890625 54.6875 \nL 35.109375 28.078125 \nL 55.90625 0 \nL 45.3125 0 \nL 29.390625 21.484375 \nL 13.484375 0 \nL 2.875 0 \nL 24.125 28.609375 \nL 4.6875 54.6875 \nL 15.28125 54.6875 \nL 29.78125 35.203125 \nL 44.28125 54.6875 \nz\n\" id=\"DejaVuSans-120\"/>\n      <path d=\"M 12.40625 8.296875 \nL 28.515625 8.296875 \nL 28.515625 63.921875 \nL 10.984375 60.40625 \nL 10.984375 69.390625 \nL 28.421875 72.90625 \nL 38.28125 72.90625 \nL 38.28125 8.296875 \nL 54.390625 8.296875 \nL 54.390625 0 \nL 12.40625 0 \nz\n\" id=\"DejaVuSans-49\"/>\n     </defs>\n     <g transform=\"translate(134.129687 186.494687)scale(0.1 -0.1)\">\n      <use xlink:href=\"#DejaVuSans-120\"/>\n      <use x=\"59.179688\" xlink:href=\"#DejaVuSans-49\"/>\n     </g>\n    </g>\n   </g>\n   <g id=\"matplotlib.axis_2\">\n    <g id=\"ytick_1\">\n     <g id=\"line2d_4\">\n      <defs>\n       <path d=\"M 0 0 \nL -3.5 0 \n\" id=\"m2669de4e80\" style=\"stroke:#000000;stroke-width:0.8;\"/>\n      </defs>\n      <g>\n       <use style=\"stroke:#000000;stroke-width:0.8;\" x=\"42.620312\" xlink:href=\"#m2669de4e80\" y=\"158.218125\"/>\n      </g>\n     </g>\n     <g id=\"text_5\">\n      <!-- −3 -->\n      <defs>\n       <path d=\"M 40.578125 39.3125 \nQ 47.65625 37.796875 51.625 33 \nQ 55.609375 28.21875 55.609375 21.1875 \nQ 55.609375 10.40625 48.1875 4.484375 \nQ 40.765625 -1.421875 27.09375 -1.421875 \nQ 22.515625 -1.421875 17.65625 -0.515625 \nQ 12.796875 0.390625 7.625 2.203125 \nL 7.625 11.71875 \nQ 11.71875 9.328125 16.59375 8.109375 \nQ 21.484375 6.890625 26.8125 6.890625 \nQ 36.078125 6.890625 40.9375 10.546875 \nQ 45.796875 14.203125 45.796875 21.1875 \nQ 45.796875 27.640625 41.28125 31.265625 \nQ 36.765625 34.90625 28.71875 34.90625 \nL 20.21875 34.90625 \nL 20.21875 43.015625 \nL 29.109375 43.015625 \nQ 36.375 43.015625 40.234375 45.921875 \nQ 44.09375 48.828125 44.09375 54.296875 \nQ 44.09375 59.90625 40.109375 62.90625 \nQ 36.140625 65.921875 28.71875 65.921875 \nQ 24.65625 65.921875 20.015625 65.03125 \nQ 15.375 64.15625 9.8125 62.3125 \nL 9.8125 71.09375 \nQ 15.4375 72.65625 20.34375 73.4375 \nQ 25.25 74.21875 29.59375 74.21875 \nQ 40.828125 74.21875 47.359375 69.109375 \nQ 53.90625 64.015625 53.90625 55.328125 \nQ 53.90625 49.265625 50.4375 45.09375 \nQ 46.96875 40.921875 40.578125 39.3125 \nz\n\" id=\"DejaVuSans-51\"/>\n      </defs>\n      <g transform=\"translate(20.878125 162.017344)scale(0.1 -0.1)\">\n       <use xlink:href=\"#DejaVuSans-8722\"/>\n       <use x=\"83.789062\" xlink:href=\"#DejaVuSans-51\"/>\n      </g>\n     </g>\n    </g>\n    <g id=\"ytick_2\">\n     <g id=\"line2d_5\">\n      <g>\n       <use style=\"stroke:#000000;stroke-width:0.8;\" x=\"42.620312\" xlink:href=\"#m2669de4e80\" y=\"123.371971\"/>\n      </g>\n     </g>\n     <g id=\"text_6\">\n      <!-- −2 -->\n      <g transform=\"translate(20.878125 127.17119)scale(0.1 -0.1)\">\n       <use xlink:href=\"#DejaVuSans-8722\"/>\n       <use x=\"83.789062\" xlink:href=\"#DejaVuSans-50\"/>\n      </g>\n     </g>\n    </g>\n    <g id=\"ytick_3\">\n     <g id=\"line2d_6\">\n      <g>\n       <use style=\"stroke:#000000;stroke-width:0.8;\" x=\"42.620312\" xlink:href=\"#m2669de4e80\" y=\"88.525817\"/>\n      </g>\n     </g>\n     <g id=\"text_7\">\n      <!-- −1 -->\n      <g transform=\"translate(20.878125 92.325036)scale(0.1 -0.1)\">\n       <use xlink:href=\"#DejaVuSans-8722\"/>\n       <use x=\"83.789062\" xlink:href=\"#DejaVuSans-49\"/>\n      </g>\n     </g>\n    </g>\n    <g id=\"ytick_4\">\n     <g id=\"line2d_7\">\n      <g>\n       <use style=\"stroke:#000000;stroke-width:0.8;\" x=\"42.620312\" xlink:href=\"#m2669de4e80\" y=\"53.679663\"/>\n      </g>\n     </g>\n     <g id=\"text_8\">\n      <!-- 0 -->\n      <g transform=\"translate(29.257812 57.478882)scale(0.1 -0.1)\">\n       <use xlink:href=\"#DejaVuSans-48\"/>\n      </g>\n     </g>\n    </g>\n    <g id=\"text_9\">\n     <!-- x2 -->\n     <g transform=\"translate(14.798437 96.40875)rotate(-90)scale(0.1 -0.1)\">\n      <use xlink:href=\"#DejaVuSans-120\"/>\n      <use x=\"59.179688\" xlink:href=\"#DejaVuSans-50\"/>\n     </g>\n    </g>\n   </g>\n   <g id=\"LineCollection_1\"/>\n   <g id=\"LineCollection_2\">\n    <path clip-path=\"url(#pd5b6f4ab31)\" d=\"M 133.389338 22.318125 \nL 131.354961 25.802739 \nL 131.115628 26.267344 \nL 129.618631 29.287355 \nL 128.121641 32.77197 \nL 128.064069 32.93035 \nL 126.898922 36.256586 \nL 125.900228 39.741201 \nL 125.123465 43.225816 \nL 125.012502 43.922723 \nL 124.58421 46.710432 \nL 124.262994 50.195048 \nL 124.155921 53.679664 \nL 124.262994 57.164279 \nL 124.58421 60.648894 \nL 125.012502 63.436603 \nL 125.123465 64.133509 \nL 125.900228 67.618126 \nL 126.898922 71.10274 \nL 128.064069 74.428976 \nL 128.121641 74.587356 \nL 129.618631 78.07197 \nL 131.115628 81.09198 \nL 131.354961 81.556584 \nL 133.389338 85.041201 \nL 134.167188 86.233307 \nL 135.724107 88.525817 \nL 137.218755 90.517032 \nL 138.387435 92.010433 \nL 140.270314 94.207253 \nL 141.423126 95.495045 \nL 143.321874 97.446434 \nL 144.883135 98.979661 \nL 146.373441 100.334796 \nL 148.829573 102.464278 \nL 149.425 102.944914 \nL 152.476564 105.28802 \nL 153.383783 105.948894 \nL 155.528127 107.410184 \nL 158.57969 109.377305 \nL 158.672164 109.43351 \nL 161.631253 111.12302 \nL 164.682813 112.759731 \nL 164.998499 112.918126 \nL 167.734376 114.212411 \nL 170.785939 115.556478 \nL 172.861005 116.402743 \nL 173.837499 116.779455 \nL 176.889062 117.862512 \nL 179.940626 118.851387 \nL 182.992189 119.746087 \nL 183.530712 119.887359 \nL 186.04375 120.5128 \nL 189.095313 121.182919 \nL 192.146877 121.763687 \nL 195.198438 122.255107 \nL 198.250001 122.657179 \nL 201.301564 122.969899 \nL 204.353126 123.193273 \nL 207.404689 123.327295 \nL 210.456251 123.371971 \nL 213.507813 123.327295 \nL 216.559376 123.193273 \nL 219.610939 122.969899 \nL 222.662501 122.657179 \nL 225.714063 122.255107 \nL 228.765626 121.763687 \nL 231.817188 121.182919 \nL 234.868751 120.5128 \nL 237.38179 119.887359 \nL 237.920313 119.746087 \n\" style=\"fill:none;stroke:#46327e;stroke-width:1.5;\"/>\n   </g>\n   <g id=\"LineCollection_3\">\n    <path clip-path=\"url(#pd5b6f4ab31)\" d=\"M 94.741 22.318125 \nL 94.496869 22.933071 \nL 93.387217 25.802739 \nL 92.198295 29.287355 \nL 91.44531 31.833818 \nL 91.174923 32.77197 \nL 90.325119 36.256586 \nL 89.629825 39.741201 \nL 89.089044 43.225816 \nL 88.702769 46.710432 \nL 88.471007 50.195048 \nL 88.393757 53.679331 \nL 88.39375 53.679664 \nL 88.393757 53.679996 \nL 88.471007 57.164279 \nL 88.702769 60.648894 \nL 89.089044 64.133509 \nL 89.629825 67.618126 \nL 90.325119 71.10274 \nL 91.174923 74.587356 \nL 91.44531 75.525507 \nL 92.198295 78.07197 \nL 93.387217 81.556584 \nL 94.496869 84.426255 \nL 94.741 85.041201 \nL 96.287127 88.525817 \nL 97.548436 91.097791 \nL 98.008263 92.010433 \nL 99.931161 95.495045 \nL 100.599996 96.610121 \nL 102.061308 98.979661 \nL 103.651563 101.36727 \nL 104.403397 102.464278 \nL 106.703122 105.588409 \nL 106.976403 105.948894 \nL 109.754682 109.377295 \nL 109.801639 109.43351 \nL 112.806249 112.81253 \nL 112.903126 112.918126 \nL 115.857816 115.95472 \nL 116.308047 116.402743 \nL 118.909375 118.851387 \nL 120.04725 119.887359 \nL 121.960942 121.540318 \nL 124.155924 123.371971 \nL 125.012502 124.051895 \nL 128.064069 126.389141 \nL 128.697415 126.856591 \nL 131.115628 128.55838 \nL 133.748347 130.341203 \nL 134.167188 130.612228 \nL 137.218755 132.509407 \nL 139.426266 133.825815 \nL 140.270314 134.307731 \nL 143.321874 135.975899 \nL 145.876677 137.310436 \nL 146.373441 137.559336 \nL 149.425 139.017184 \nL 152.476564 140.403916 \nL 153.383788 140.795048 \nL 155.528127 141.683284 \nL 158.57969 142.878988 \nL 161.631253 144.006364 \nL 162.418734 144.27966 \nL 164.682813 145.035759 \nL 167.734376 145.989097 \nL 170.785939 146.876689 \nL 173.837499 147.698531 \nL 174.102859 147.76428 \nL 176.889062 148.429523 \nL 179.940626 149.094767 \nL 182.992189 149.696655 \nL 186.04375 150.235187 \nL 189.095313 150.710361 \nL 192.146877 151.122182 \nL 193.256511 151.248893 \nL 195.198438 151.462862 \nL 198.250001 151.737964 \nL 201.301564 151.95193 \nL 204.353126 152.104764 \nL 207.404689 152.196464 \nL 210.456251 152.227032 \nL 213.507813 152.196464 \nL 216.559376 152.104764 \nL 219.610939 151.95193 \nL 222.662501 151.737964 \nL 225.714063 151.462862 \nL 227.655991 151.248893 \nL 228.765626 151.122182 \nL 231.817188 150.710361 \nL 234.868751 150.235187 \nL 237.920313 149.696655 \n\" style=\"fill:none;stroke:#365c8d;stroke-width:1.5;\"/>\n   </g>\n   <g id=\"LineCollection_4\">\n    <path clip-path=\"url(#pd5b6f4ab31)\" d=\"M 66.101283 22.318125 \nL 65.009145 25.802739 \nL 64.045489 29.287355 \nL 63.981244 29.555409 \nL 63.226219 32.77197 \nL 62.534115 36.256586 \nL 61.967845 39.741201 \nL 61.527415 43.225816 \nL 61.21282 46.710432 \nL 61.024065 50.195048 \nL 60.961145 53.679664 \nL 61.024065 57.164279 \nL 61.21282 60.648894 \nL 61.527415 64.133509 \nL 61.967845 67.618126 \nL 62.534115 71.10274 \nL 63.226219 74.587356 \nL 63.981244 77.803917 \nL 64.045489 78.07197 \nL 65.009145 81.556584 \nL 66.101283 85.041201 \nL 67.032818 87.700527 \nL 67.328125 88.525817 \nL 68.706252 92.010433 \nL 70.084378 95.192042 \nL 70.218509 95.495045 \nL 71.895191 98.979661 \nL 73.135938 101.36727 \nL 73.718821 102.464278 \nL 75.70748 105.948894 \nL 76.187512 106.73576 \nL 77.871125 109.43351 \nL 79.239071 111.492609 \nL 80.208385 112.918126 \nL 82.290631 115.805386 \nL 82.731817 116.402743 \nL 85.342191 119.746087 \nL 85.455214 119.887359 \nL 88.39375 123.371971 \nL 88.393757 123.371979 \nL 91.44531 126.729094 \nL 91.564212 126.856591 \nL 94.496869 129.854968 \nL 94.98513 130.341203 \nL 97.548436 132.78043 \nL 98.677098 133.825815 \nL 100.599996 135.531051 \nL 102.66303 137.310436 \nL 103.651563 138.128252 \nL 106.703122 140.581699 \nL 106.976403 140.795048 \nL 109.754682 142.878981 \nL 111.679511 144.27966 \nL 112.806249 145.068634 \nL 115.857816 147.139679 \nL 116.808306 147.76428 \nL 118.909375 149.094765 \nL 121.960942 150.963793 \nL 122.442758 151.248893 \nL 125.012502 152.716101 \nL 128.064069 154.397277 \nL 128.697416 154.733513 \nL 131.115628 155.973797 \nL 134.167188 157.479859 \nL 135.724104 158.218125 \n\" style=\"fill:none;stroke:#277f8e;stroke-width:1.5;\"/>\n   </g>\n   <g id=\"LineCollection_5\">\n    <path clip-path=\"url(#pd5b6f4ab31)\" d=\"M 42.620312 86.233313 \nL 43.320213 88.525817 \nL 44.496043 92.010433 \nL 45.671872 95.192028 \nL 45.785952 95.495045 \nL 47.211915 98.979661 \nL 48.723432 102.399734 \nL 48.7525 102.464278 \nL 50.438126 105.948894 \nL 51.775006 108.534275 \nL 52.249024 109.43351 \nL 54.204398 112.918126 \nL 54.826565 113.963518 \nL 56.307021 116.402743 \nL 57.878125 118.851388 \nL 58.556253 119.887359 \nL 60.929685 123.327287 \nL 60.961151 123.371971 \nL 63.540821 126.856591 \nL 63.981244 127.423844 \nL 66.294014 130.341203 \nL 67.032818 131.231721 \nL 69.231252 133.825815 \nL 70.084378 134.789647 \nL 72.364666 137.310436 \nL 73.135938 138.128252 \nL 75.70748 140.795048 \nL 76.187512 141.273339 \nL 79.239071 144.245516 \nL 79.274952 144.27966 \nL 82.290631 147.041067 \nL 83.09947 147.76428 \nL 85.342191 149.696661 \nL 87.188189 151.248893 \nL 88.393757 152.22704 \nL 91.44531 154.641805 \nL 91.564212 154.733513 \nL 94.496869 156.918771 \nL 96.287127 158.218125 \n\" style=\"fill:none;stroke:#1fa187;stroke-width:1.5;\"/>\n   </g>\n   <g id=\"LineCollection_6\">\n    <path clip-path=\"url(#pd5b6f4ab31)\" d=\"M 42.620312 130.612227 \nL 44.943982 133.825815 \nL 45.671872 134.789642 \nL 47.611182 137.310436 \nL 48.723432 138.697162 \nL 50.438126 140.795048 \nL 51.775006 142.366549 \nL 53.434101 144.27966 \nL 54.826565 145.82473 \nL 56.609163 147.76428 \nL 57.878125 149.094765 \nL 59.974143 151.248893 \nL 60.929685 152.196466 \nL 63.540815 154.733513 \nL 63.981244 155.14694 \nL 67.032818 157.95236 \nL 67.32812 158.218125 \n\" style=\"fill:none;stroke:#4ac16d;stroke-width:1.5;\"/>\n   </g>\n   <g id=\"LineCollection_7\">\n    <path clip-path=\"url(#pd5b6f4ab31)\" d=\"M 42.620312 157.47986 \nL 43.320214 158.218125 \n\" style=\"fill:none;stroke:#a0da39;stroke-width:1.5;\"/>\n   </g>\n   <g id=\"LineCollection_8\"/>\n   <g id=\"line2d_8\">\n    <path clip-path=\"url(#pd5b6f4ab31)\" d=\"M 57.878125 123.371971 \nL 86.276436 94.144788 \nL 115.0902 77.135041 \nL 135.678722 69.065943 \nL 153.097109 59.792111 \nL 164.740329 57.9233 \nL 172.160549 60.267213 \nL 184.529562 59.004086 \nL 188.999783 63.113755 \nL 199.121071 60.390651 \nL 204.969199 59.517505 \nL 206.401439 62.813771 \nL 209.248697 60.41731 \nL 209.828022 58.246582 \nL 208.942715 52.548131 \nL 212.440283 55.395299 \nL 208.479097 52.814637 \nL 209.48837 55.747878 \nL 204.848293 55.57136 \nL 204.935716 60.004105 \nL 207.914015 55.633246 \nL 208.044914 59.481086 \nL 211.155032 51.465294 \nL 213.503637 49.460306 \nL 215.086112 51.805547 \nL 214.808787 51.307046 \nL 211.183937 55.719519 \nL 216.047446 57.521603 \nL 215.235707 56.903935 \nL 218.875957 56.25806 \nL 217.431203 52.331368 \nL 215.175418 49.657226 \nL 212.543612 50.124357 \nL 208.775437 52.672605 \nL 212.610946 50.532834 \nL 218.314344 50.532228 \nL 215.901344 49.381883 \nL 214.854498 52.95259 \nL 210.86434 52.800695 \nL 210.815839 52.681402 \nL 212.148006 55.720259 \nL 207.734811 50.110381 \nL 211.289014 51.314702 \nL 208.85859 50.003802 \nL 208.550423 47.172174 \nL 212.707872 51.644658 \nL 212.78837 51.960288 \nL 214.628023 55.699803 \nL 215.829301 53.030589 \nL 213.834774 54.084568 \nL 213.111569 58.663523 \nL 218.722994 57.355288 \nL 215.807148 51.88384 \nL 213.441233 43.821656 \nL 216.83372 43.540722 \nL 216.233537 42.892089 \nL 217.759272 46.491958 \nL 214.860171 52.858112 \nL 214.395199 59.372555 \nL 207.476309 57.875518 \nL 208.690867 61.944637 \nL 209.445523 60.149158 \nL 209.302588 59.426679 \nL 212.62035 52.850406 \nL 215.378424 51.425683 \nL 210.887598 45.325091 \nL 210.098401 43.023362 \nL 213.790857 45.816097 \nL 210.825276 53.425536 \nL 209.844827 50.8617 \nL 212.110276 50.181379 \nL 209.703946 49.471181 \nL 210.448583 53.050956 \nL 214.852333 50.111158 \nL 211.005646 47.919479 \nL 214.910819 52.4585 \nL 209.291751 52.862155 \nL 203.123464 52.400167 \nL 209.038486 53.772626 \nL 211.054301 51.922042 \nL 208.420554 47.418299 \nL 208.737801 48.652203 \nL 208.687383 47.321861 \nL 208.645097 50.088644 \nL 214.973182 49.377019 \nL 218.860073 51.481238 \nL 213.938972 53.280282 \nL 219.844053 49.28107 \nL 217.755537 50.396199 \nL 216.837929 50.405861 \nL 223.108728 50.987144 \nL 222.256131 50.809612 \nL 217.895934 51.086776 \nL 211.805407 57.39918 \nL 207.791806 49.433089 \nL 208.69107 55.345902 \nL 212.504258 57.796182 \nL 210.625381 54.21451 \nL 211.929482 50.087103 \nL 210.466197 51.729292 \nL 202.694074 43.274424 \nL 205.434532 46.578024 \nL 205.520782 48.716786 \nL 204.50955 51.265 \nL 204.204624 49.62214 \nL 202.466225 44.180127 \nL 201.593664 46.223581 \nL 200.473471 52.084774 \nL 207.401829 56.850057 \nL 206.875125 62.963735 \nL 205.570273 55.726608 \nL 203.649132 55.485548 \nL 203.587593 57.04044 \nL 209.828737 54.860991 \nL 209.627353 49.760367 \nL 205.501057 53.633216 \nL 207.393635 57.592828 \nL 208.642862 57.565012 \nL 212.678342 60.745538 \nL 211.46001 58.092929 \nL 210.852952 51.775693 \nL 207.555961 50.596862 \nL 211.395907 52.326437 \nL 207.067034 50.015884 \nL 204.913518 46.863957 \nL 205.179518 58.699371 \nL 208.221236 61.200185 \nL 206.753084 50.706848 \nL 208.689493 53.593202 \nL 212.071022 53.146764 \nL 212.540792 55.91755 \nL 213.562164 59.186205 \nL 208.581675 58.366193 \nL 210.211645 54.228946 \nL 209.905395 54.226245 \nL 212.486578 50.977594 \nL 210.835575 55.00407 \nL 211.99982 50.857931 \nL 213.437132 53.310507 \nL 217.855234 46.130425 \nL 221.555646 43.470497 \nL 213.048642 50.218735 \nL 208.345232 49.341249 \nL 209.056592 51.274913 \nL 216.27939 49.446738 \nL 215.892875 45.028875 \nL 212.176811 46.012637 \nL 216.488765 51.052851 \nL 212.701972 50.226331 \nL 214.03982 46.993582 \nL 207.825447 47.820601 \nL 207.825447 47.820601 \n\" style=\"fill:none;stroke:#ff0000;stroke-linecap:square;stroke-width:1.5;\"/>\n    <defs>\n     <path d=\"M 0 3 \nC 0.795609 3 1.55874 2.683901 2.12132 2.12132 \nC 2.683901 1.55874 3 0.795609 3 0 \nC 3 -0.795609 2.683901 -1.55874 2.12132 -2.12132 \nC 1.55874 -2.683901 0.795609 -3 0 -3 \nC -0.795609 -3 -1.55874 -2.683901 -2.12132 -2.12132 \nC -2.683901 -1.55874 -3 -0.795609 -3 0 \nC -3 0.795609 -2.683901 1.55874 -2.12132 2.12132 \nC -1.55874 2.683901 -0.795609 3 0 3 \nz\n\" id=\"md0585aa7d0\" style=\"stroke:#ff0000;\"/>\n    </defs>\n    <g clip-path=\"url(#pd5b6f4ab31)\">\n     <use style=\"fill:#ff0000;stroke:#ff0000;\" x=\"57.878125\" xlink:href=\"#md0585aa7d0\" y=\"123.371971\"/>\n     <use style=\"fill:#ff0000;stroke:#ff0000;\" x=\"86.276436\" xlink:href=\"#md0585aa7d0\" y=\"94.144788\"/>\n     <use style=\"fill:#ff0000;stroke:#ff0000;\" x=\"115.0902\" xlink:href=\"#md0585aa7d0\" y=\"77.135041\"/>\n     <use style=\"fill:#ff0000;stroke:#ff0000;\" x=\"135.678722\" xlink:href=\"#md0585aa7d0\" y=\"69.065943\"/>\n     <use style=\"fill:#ff0000;stroke:#ff0000;\" x=\"153.097109\" xlink:href=\"#md0585aa7d0\" y=\"59.792111\"/>\n     <use style=\"fill:#ff0000;stroke:#ff0000;\" x=\"164.740329\" xlink:href=\"#md0585aa7d0\" y=\"57.9233\"/>\n     <use style=\"fill:#ff0000;stroke:#ff0000;\" x=\"172.160549\" xlink:href=\"#md0585aa7d0\" y=\"60.267213\"/>\n     <use style=\"fill:#ff0000;stroke:#ff0000;\" x=\"184.529562\" xlink:href=\"#md0585aa7d0\" y=\"59.004086\"/>\n     <use style=\"fill:#ff0000;stroke:#ff0000;\" x=\"188.999783\" xlink:href=\"#md0585aa7d0\" y=\"63.113755\"/>\n     <use style=\"fill:#ff0000;stroke:#ff0000;\" x=\"199.121071\" xlink:href=\"#md0585aa7d0\" y=\"60.390651\"/>\n     <use style=\"fill:#ff0000;stroke:#ff0000;\" x=\"204.969199\" xlink:href=\"#md0585aa7d0\" y=\"59.517505\"/>\n     <use style=\"fill:#ff0000;stroke:#ff0000;\" x=\"206.401439\" xlink:href=\"#md0585aa7d0\" y=\"62.813771\"/>\n     <use style=\"fill:#ff0000;stroke:#ff0000;\" x=\"209.248697\" xlink:href=\"#md0585aa7d0\" y=\"60.41731\"/>\n     <use style=\"fill:#ff0000;stroke:#ff0000;\" x=\"209.828022\" xlink:href=\"#md0585aa7d0\" y=\"58.246582\"/>\n     <use style=\"fill:#ff0000;stroke:#ff0000;\" x=\"208.942715\" xlink:href=\"#md0585aa7d0\" y=\"52.548131\"/>\n     <use style=\"fill:#ff0000;stroke:#ff0000;\" x=\"212.440283\" xlink:href=\"#md0585aa7d0\" y=\"55.395299\"/>\n     <use style=\"fill:#ff0000;stroke:#ff0000;\" x=\"208.479097\" xlink:href=\"#md0585aa7d0\" y=\"52.814637\"/>\n     <use style=\"fill:#ff0000;stroke:#ff0000;\" x=\"209.48837\" xlink:href=\"#md0585aa7d0\" y=\"55.747878\"/>\n     <use style=\"fill:#ff0000;stroke:#ff0000;\" x=\"204.848293\" xlink:href=\"#md0585aa7d0\" y=\"55.57136\"/>\n     <use style=\"fill:#ff0000;stroke:#ff0000;\" x=\"204.935716\" xlink:href=\"#md0585aa7d0\" y=\"60.004105\"/>\n     <use style=\"fill:#ff0000;stroke:#ff0000;\" x=\"207.914015\" xlink:href=\"#md0585aa7d0\" y=\"55.633246\"/>\n     <use style=\"fill:#ff0000;stroke:#ff0000;\" x=\"208.044914\" xlink:href=\"#md0585aa7d0\" y=\"59.481086\"/>\n     <use style=\"fill:#ff0000;stroke:#ff0000;\" x=\"211.155032\" xlink:href=\"#md0585aa7d0\" y=\"51.465294\"/>\n     <use style=\"fill:#ff0000;stroke:#ff0000;\" x=\"213.503637\" xlink:href=\"#md0585aa7d0\" y=\"49.460306\"/>\n     <use style=\"fill:#ff0000;stroke:#ff0000;\" x=\"215.086112\" xlink:href=\"#md0585aa7d0\" y=\"51.805547\"/>\n     <use style=\"fill:#ff0000;stroke:#ff0000;\" x=\"214.808787\" xlink:href=\"#md0585aa7d0\" y=\"51.307046\"/>\n     <use style=\"fill:#ff0000;stroke:#ff0000;\" x=\"211.183937\" xlink:href=\"#md0585aa7d0\" y=\"55.719519\"/>\n     <use style=\"fill:#ff0000;stroke:#ff0000;\" x=\"216.047446\" xlink:href=\"#md0585aa7d0\" y=\"57.521603\"/>\n     <use style=\"fill:#ff0000;stroke:#ff0000;\" x=\"215.235707\" xlink:href=\"#md0585aa7d0\" y=\"56.903935\"/>\n     <use style=\"fill:#ff0000;stroke:#ff0000;\" x=\"218.875957\" xlink:href=\"#md0585aa7d0\" y=\"56.25806\"/>\n     <use style=\"fill:#ff0000;stroke:#ff0000;\" x=\"217.431203\" xlink:href=\"#md0585aa7d0\" y=\"52.331368\"/>\n     <use style=\"fill:#ff0000;stroke:#ff0000;\" x=\"215.175418\" xlink:href=\"#md0585aa7d0\" y=\"49.657226\"/>\n     <use style=\"fill:#ff0000;stroke:#ff0000;\" x=\"212.543612\" xlink:href=\"#md0585aa7d0\" y=\"50.124357\"/>\n     <use style=\"fill:#ff0000;stroke:#ff0000;\" x=\"208.775437\" xlink:href=\"#md0585aa7d0\" y=\"52.672605\"/>\n     <use style=\"fill:#ff0000;stroke:#ff0000;\" x=\"212.610946\" xlink:href=\"#md0585aa7d0\" y=\"50.532834\"/>\n     <use style=\"fill:#ff0000;stroke:#ff0000;\" x=\"218.314344\" xlink:href=\"#md0585aa7d0\" y=\"50.532228\"/>\n     <use style=\"fill:#ff0000;stroke:#ff0000;\" x=\"215.901344\" xlink:href=\"#md0585aa7d0\" y=\"49.381883\"/>\n     <use style=\"fill:#ff0000;stroke:#ff0000;\" x=\"214.854498\" xlink:href=\"#md0585aa7d0\" y=\"52.95259\"/>\n     <use style=\"fill:#ff0000;stroke:#ff0000;\" x=\"210.86434\" xlink:href=\"#md0585aa7d0\" y=\"52.800695\"/>\n     <use style=\"fill:#ff0000;stroke:#ff0000;\" x=\"210.815839\" xlink:href=\"#md0585aa7d0\" y=\"52.681402\"/>\n     <use style=\"fill:#ff0000;stroke:#ff0000;\" x=\"212.148006\" xlink:href=\"#md0585aa7d0\" y=\"55.720259\"/>\n     <use style=\"fill:#ff0000;stroke:#ff0000;\" x=\"207.734811\" xlink:href=\"#md0585aa7d0\" y=\"50.110381\"/>\n     <use style=\"fill:#ff0000;stroke:#ff0000;\" x=\"211.289014\" xlink:href=\"#md0585aa7d0\" y=\"51.314702\"/>\n     <use style=\"fill:#ff0000;stroke:#ff0000;\" x=\"208.85859\" xlink:href=\"#md0585aa7d0\" y=\"50.003802\"/>\n     <use style=\"fill:#ff0000;stroke:#ff0000;\" x=\"208.550423\" xlink:href=\"#md0585aa7d0\" y=\"47.172174\"/>\n     <use style=\"fill:#ff0000;stroke:#ff0000;\" x=\"212.707872\" xlink:href=\"#md0585aa7d0\" y=\"51.644658\"/>\n     <use style=\"fill:#ff0000;stroke:#ff0000;\" x=\"212.78837\" xlink:href=\"#md0585aa7d0\" y=\"51.960288\"/>\n     <use style=\"fill:#ff0000;stroke:#ff0000;\" x=\"214.628023\" xlink:href=\"#md0585aa7d0\" y=\"55.699803\"/>\n     <use style=\"fill:#ff0000;stroke:#ff0000;\" x=\"215.829301\" xlink:href=\"#md0585aa7d0\" y=\"53.030589\"/>\n     <use style=\"fill:#ff0000;stroke:#ff0000;\" x=\"213.834774\" xlink:href=\"#md0585aa7d0\" y=\"54.084568\"/>\n     <use style=\"fill:#ff0000;stroke:#ff0000;\" x=\"213.111569\" xlink:href=\"#md0585aa7d0\" y=\"58.663523\"/>\n     <use style=\"fill:#ff0000;stroke:#ff0000;\" x=\"218.722994\" xlink:href=\"#md0585aa7d0\" y=\"57.355288\"/>\n     <use style=\"fill:#ff0000;stroke:#ff0000;\" x=\"215.807148\" xlink:href=\"#md0585aa7d0\" y=\"51.88384\"/>\n     <use style=\"fill:#ff0000;stroke:#ff0000;\" x=\"213.441233\" xlink:href=\"#md0585aa7d0\" y=\"43.821656\"/>\n     <use style=\"fill:#ff0000;stroke:#ff0000;\" x=\"216.83372\" xlink:href=\"#md0585aa7d0\" y=\"43.540722\"/>\n     <use style=\"fill:#ff0000;stroke:#ff0000;\" x=\"216.233537\" xlink:href=\"#md0585aa7d0\" y=\"42.892089\"/>\n     <use style=\"fill:#ff0000;stroke:#ff0000;\" x=\"217.759272\" xlink:href=\"#md0585aa7d0\" y=\"46.491958\"/>\n     <use style=\"fill:#ff0000;stroke:#ff0000;\" x=\"214.860171\" xlink:href=\"#md0585aa7d0\" y=\"52.858112\"/>\n     <use style=\"fill:#ff0000;stroke:#ff0000;\" x=\"214.395199\" xlink:href=\"#md0585aa7d0\" y=\"59.372555\"/>\n     <use style=\"fill:#ff0000;stroke:#ff0000;\" x=\"207.476309\" xlink:href=\"#md0585aa7d0\" y=\"57.875518\"/>\n     <use style=\"fill:#ff0000;stroke:#ff0000;\" x=\"208.690867\" xlink:href=\"#md0585aa7d0\" y=\"61.944637\"/>\n     <use style=\"fill:#ff0000;stroke:#ff0000;\" x=\"209.445523\" xlink:href=\"#md0585aa7d0\" y=\"60.149158\"/>\n     <use style=\"fill:#ff0000;stroke:#ff0000;\" x=\"209.302588\" xlink:href=\"#md0585aa7d0\" y=\"59.426679\"/>\n     <use style=\"fill:#ff0000;stroke:#ff0000;\" x=\"212.62035\" xlink:href=\"#md0585aa7d0\" y=\"52.850406\"/>\n     <use style=\"fill:#ff0000;stroke:#ff0000;\" x=\"215.378424\" xlink:href=\"#md0585aa7d0\" y=\"51.425683\"/>\n     <use style=\"fill:#ff0000;stroke:#ff0000;\" x=\"210.887598\" xlink:href=\"#md0585aa7d0\" y=\"45.325091\"/>\n     <use style=\"fill:#ff0000;stroke:#ff0000;\" x=\"210.098401\" xlink:href=\"#md0585aa7d0\" y=\"43.023362\"/>\n     <use style=\"fill:#ff0000;stroke:#ff0000;\" x=\"213.790857\" xlink:href=\"#md0585aa7d0\" y=\"45.816097\"/>\n     <use style=\"fill:#ff0000;stroke:#ff0000;\" x=\"210.825276\" xlink:href=\"#md0585aa7d0\" y=\"53.425536\"/>\n     <use style=\"fill:#ff0000;stroke:#ff0000;\" x=\"209.844827\" xlink:href=\"#md0585aa7d0\" y=\"50.8617\"/>\n     <use style=\"fill:#ff0000;stroke:#ff0000;\" x=\"212.110276\" xlink:href=\"#md0585aa7d0\" y=\"50.181379\"/>\n     <use style=\"fill:#ff0000;stroke:#ff0000;\" x=\"209.703946\" xlink:href=\"#md0585aa7d0\" y=\"49.471181\"/>\n     <use style=\"fill:#ff0000;stroke:#ff0000;\" x=\"210.448583\" xlink:href=\"#md0585aa7d0\" y=\"53.050956\"/>\n     <use style=\"fill:#ff0000;stroke:#ff0000;\" x=\"214.852333\" xlink:href=\"#md0585aa7d0\" y=\"50.111158\"/>\n     <use style=\"fill:#ff0000;stroke:#ff0000;\" x=\"211.005646\" xlink:href=\"#md0585aa7d0\" y=\"47.919479\"/>\n     <use style=\"fill:#ff0000;stroke:#ff0000;\" x=\"214.910819\" xlink:href=\"#md0585aa7d0\" y=\"52.4585\"/>\n     <use style=\"fill:#ff0000;stroke:#ff0000;\" x=\"209.291751\" xlink:href=\"#md0585aa7d0\" y=\"52.862155\"/>\n     <use style=\"fill:#ff0000;stroke:#ff0000;\" x=\"203.123464\" xlink:href=\"#md0585aa7d0\" y=\"52.400167\"/>\n     <use style=\"fill:#ff0000;stroke:#ff0000;\" x=\"209.038486\" xlink:href=\"#md0585aa7d0\" y=\"53.772626\"/>\n     <use style=\"fill:#ff0000;stroke:#ff0000;\" x=\"211.054301\" xlink:href=\"#md0585aa7d0\" y=\"51.922042\"/>\n     <use style=\"fill:#ff0000;stroke:#ff0000;\" x=\"208.420554\" xlink:href=\"#md0585aa7d0\" y=\"47.418299\"/>\n     <use style=\"fill:#ff0000;stroke:#ff0000;\" x=\"208.737801\" xlink:href=\"#md0585aa7d0\" y=\"48.652203\"/>\n     <use style=\"fill:#ff0000;stroke:#ff0000;\" x=\"208.687383\" xlink:href=\"#md0585aa7d0\" y=\"47.321861\"/>\n     <use style=\"fill:#ff0000;stroke:#ff0000;\" x=\"208.645097\" xlink:href=\"#md0585aa7d0\" y=\"50.088644\"/>\n     <use style=\"fill:#ff0000;stroke:#ff0000;\" x=\"214.973182\" xlink:href=\"#md0585aa7d0\" y=\"49.377019\"/>\n     <use style=\"fill:#ff0000;stroke:#ff0000;\" x=\"218.860073\" xlink:href=\"#md0585aa7d0\" y=\"51.481238\"/>\n     <use style=\"fill:#ff0000;stroke:#ff0000;\" x=\"213.938972\" xlink:href=\"#md0585aa7d0\" y=\"53.280282\"/>\n     <use style=\"fill:#ff0000;stroke:#ff0000;\" x=\"219.844053\" xlink:href=\"#md0585aa7d0\" y=\"49.28107\"/>\n     <use style=\"fill:#ff0000;stroke:#ff0000;\" x=\"217.755537\" xlink:href=\"#md0585aa7d0\" y=\"50.396199\"/>\n     <use style=\"fill:#ff0000;stroke:#ff0000;\" x=\"216.837929\" xlink:href=\"#md0585aa7d0\" y=\"50.405861\"/>\n     <use style=\"fill:#ff0000;stroke:#ff0000;\" x=\"223.108728\" xlink:href=\"#md0585aa7d0\" y=\"50.987144\"/>\n     <use style=\"fill:#ff0000;stroke:#ff0000;\" x=\"222.256131\" xlink:href=\"#md0585aa7d0\" y=\"50.809612\"/>\n     <use style=\"fill:#ff0000;stroke:#ff0000;\" x=\"217.895934\" xlink:href=\"#md0585aa7d0\" y=\"51.086776\"/>\n     <use style=\"fill:#ff0000;stroke:#ff0000;\" x=\"211.805407\" xlink:href=\"#md0585aa7d0\" y=\"57.39918\"/>\n     <use style=\"fill:#ff0000;stroke:#ff0000;\" x=\"207.791806\" xlink:href=\"#md0585aa7d0\" y=\"49.433089\"/>\n     <use style=\"fill:#ff0000;stroke:#ff0000;\" x=\"208.69107\" xlink:href=\"#md0585aa7d0\" y=\"55.345902\"/>\n     <use style=\"fill:#ff0000;stroke:#ff0000;\" x=\"212.504258\" xlink:href=\"#md0585aa7d0\" y=\"57.796182\"/>\n     <use style=\"fill:#ff0000;stroke:#ff0000;\" x=\"210.625381\" xlink:href=\"#md0585aa7d0\" y=\"54.21451\"/>\n     <use style=\"fill:#ff0000;stroke:#ff0000;\" x=\"211.929482\" xlink:href=\"#md0585aa7d0\" y=\"50.087103\"/>\n     <use style=\"fill:#ff0000;stroke:#ff0000;\" x=\"210.466197\" xlink:href=\"#md0585aa7d0\" y=\"51.729292\"/>\n     <use style=\"fill:#ff0000;stroke:#ff0000;\" x=\"202.694074\" xlink:href=\"#md0585aa7d0\" y=\"43.274424\"/>\n     <use style=\"fill:#ff0000;stroke:#ff0000;\" x=\"205.434532\" xlink:href=\"#md0585aa7d0\" y=\"46.578024\"/>\n     <use style=\"fill:#ff0000;stroke:#ff0000;\" x=\"205.520782\" xlink:href=\"#md0585aa7d0\" y=\"48.716786\"/>\n     <use style=\"fill:#ff0000;stroke:#ff0000;\" x=\"204.50955\" xlink:href=\"#md0585aa7d0\" y=\"51.265\"/>\n     <use style=\"fill:#ff0000;stroke:#ff0000;\" x=\"204.204624\" xlink:href=\"#md0585aa7d0\" y=\"49.62214\"/>\n     <use style=\"fill:#ff0000;stroke:#ff0000;\" x=\"202.466225\" xlink:href=\"#md0585aa7d0\" y=\"44.180127\"/>\n     <use style=\"fill:#ff0000;stroke:#ff0000;\" x=\"201.593664\" xlink:href=\"#md0585aa7d0\" y=\"46.223581\"/>\n     <use style=\"fill:#ff0000;stroke:#ff0000;\" x=\"200.473471\" xlink:href=\"#md0585aa7d0\" y=\"52.084774\"/>\n     <use style=\"fill:#ff0000;stroke:#ff0000;\" x=\"207.401829\" xlink:href=\"#md0585aa7d0\" y=\"56.850057\"/>\n     <use style=\"fill:#ff0000;stroke:#ff0000;\" x=\"206.875125\" xlink:href=\"#md0585aa7d0\" y=\"62.963735\"/>\n     <use style=\"fill:#ff0000;stroke:#ff0000;\" x=\"205.570273\" xlink:href=\"#md0585aa7d0\" y=\"55.726608\"/>\n     <use style=\"fill:#ff0000;stroke:#ff0000;\" x=\"203.649132\" xlink:href=\"#md0585aa7d0\" y=\"55.485548\"/>\n     <use style=\"fill:#ff0000;stroke:#ff0000;\" x=\"203.587593\" xlink:href=\"#md0585aa7d0\" y=\"57.04044\"/>\n     <use style=\"fill:#ff0000;stroke:#ff0000;\" x=\"209.828737\" xlink:href=\"#md0585aa7d0\" y=\"54.860991\"/>\n     <use style=\"fill:#ff0000;stroke:#ff0000;\" x=\"209.627353\" xlink:href=\"#md0585aa7d0\" y=\"49.760367\"/>\n     <use style=\"fill:#ff0000;stroke:#ff0000;\" x=\"205.501057\" xlink:href=\"#md0585aa7d0\" y=\"53.633216\"/>\n     <use style=\"fill:#ff0000;stroke:#ff0000;\" x=\"207.393635\" xlink:href=\"#md0585aa7d0\" y=\"57.592828\"/>\n     <use style=\"fill:#ff0000;stroke:#ff0000;\" x=\"208.642862\" xlink:href=\"#md0585aa7d0\" y=\"57.565012\"/>\n     <use style=\"fill:#ff0000;stroke:#ff0000;\" x=\"212.678342\" xlink:href=\"#md0585aa7d0\" y=\"60.745538\"/>\n     <use style=\"fill:#ff0000;stroke:#ff0000;\" x=\"211.46001\" xlink:href=\"#md0585aa7d0\" y=\"58.092929\"/>\n     <use style=\"fill:#ff0000;stroke:#ff0000;\" x=\"210.852952\" xlink:href=\"#md0585aa7d0\" y=\"51.775693\"/>\n     <use style=\"fill:#ff0000;stroke:#ff0000;\" x=\"207.555961\" xlink:href=\"#md0585aa7d0\" y=\"50.596862\"/>\n     <use style=\"fill:#ff0000;stroke:#ff0000;\" x=\"211.395907\" xlink:href=\"#md0585aa7d0\" y=\"52.326437\"/>\n     <use style=\"fill:#ff0000;stroke:#ff0000;\" x=\"207.067034\" xlink:href=\"#md0585aa7d0\" y=\"50.015884\"/>\n     <use style=\"fill:#ff0000;stroke:#ff0000;\" x=\"204.913518\" xlink:href=\"#md0585aa7d0\" y=\"46.863957\"/>\n     <use style=\"fill:#ff0000;stroke:#ff0000;\" x=\"205.179518\" xlink:href=\"#md0585aa7d0\" y=\"58.699371\"/>\n     <use style=\"fill:#ff0000;stroke:#ff0000;\" x=\"208.221236\" xlink:href=\"#md0585aa7d0\" y=\"61.200185\"/>\n     <use style=\"fill:#ff0000;stroke:#ff0000;\" x=\"206.753084\" xlink:href=\"#md0585aa7d0\" y=\"50.706848\"/>\n     <use style=\"fill:#ff0000;stroke:#ff0000;\" x=\"208.689493\" xlink:href=\"#md0585aa7d0\" y=\"53.593202\"/>\n     <use style=\"fill:#ff0000;stroke:#ff0000;\" x=\"212.071022\" xlink:href=\"#md0585aa7d0\" y=\"53.146764\"/>\n     <use style=\"fill:#ff0000;stroke:#ff0000;\" x=\"212.540792\" xlink:href=\"#md0585aa7d0\" y=\"55.91755\"/>\n     <use style=\"fill:#ff0000;stroke:#ff0000;\" x=\"213.562164\" xlink:href=\"#md0585aa7d0\" y=\"59.186205\"/>\n     <use style=\"fill:#ff0000;stroke:#ff0000;\" x=\"208.581675\" xlink:href=\"#md0585aa7d0\" y=\"58.366193\"/>\n     <use style=\"fill:#ff0000;stroke:#ff0000;\" x=\"210.211645\" xlink:href=\"#md0585aa7d0\" y=\"54.228946\"/>\n     <use style=\"fill:#ff0000;stroke:#ff0000;\" x=\"209.905395\" xlink:href=\"#md0585aa7d0\" y=\"54.226245\"/>\n     <use style=\"fill:#ff0000;stroke:#ff0000;\" x=\"212.486578\" xlink:href=\"#md0585aa7d0\" y=\"50.977594\"/>\n     <use style=\"fill:#ff0000;stroke:#ff0000;\" x=\"210.835575\" xlink:href=\"#md0585aa7d0\" y=\"55.00407\"/>\n     <use style=\"fill:#ff0000;stroke:#ff0000;\" x=\"211.99982\" xlink:href=\"#md0585aa7d0\" y=\"50.857931\"/>\n     <use style=\"fill:#ff0000;stroke:#ff0000;\" x=\"213.437132\" xlink:href=\"#md0585aa7d0\" y=\"53.310507\"/>\n     <use style=\"fill:#ff0000;stroke:#ff0000;\" x=\"217.855234\" xlink:href=\"#md0585aa7d0\" y=\"46.130425\"/>\n     <use style=\"fill:#ff0000;stroke:#ff0000;\" x=\"221.555646\" xlink:href=\"#md0585aa7d0\" y=\"43.470497\"/>\n     <use style=\"fill:#ff0000;stroke:#ff0000;\" x=\"213.048642\" xlink:href=\"#md0585aa7d0\" y=\"50.218735\"/>\n     <use style=\"fill:#ff0000;stroke:#ff0000;\" x=\"208.345232\" xlink:href=\"#md0585aa7d0\" y=\"49.341249\"/>\n     <use style=\"fill:#ff0000;stroke:#ff0000;\" x=\"209.056592\" xlink:href=\"#md0585aa7d0\" y=\"51.274913\"/>\n     <use style=\"fill:#ff0000;stroke:#ff0000;\" x=\"216.27939\" xlink:href=\"#md0585aa7d0\" y=\"49.446738\"/>\n     <use style=\"fill:#ff0000;stroke:#ff0000;\" x=\"215.892875\" xlink:href=\"#md0585aa7d0\" y=\"45.028875\"/>\n     <use style=\"fill:#ff0000;stroke:#ff0000;\" x=\"212.176811\" xlink:href=\"#md0585aa7d0\" y=\"46.012637\"/>\n     <use style=\"fill:#ff0000;stroke:#ff0000;\" x=\"216.488765\" xlink:href=\"#md0585aa7d0\" y=\"51.052851\"/>\n     <use style=\"fill:#ff0000;stroke:#ff0000;\" x=\"212.701972\" xlink:href=\"#md0585aa7d0\" y=\"50.226331\"/>\n     <use style=\"fill:#ff0000;stroke:#ff0000;\" x=\"214.03982\" xlink:href=\"#md0585aa7d0\" y=\"46.993582\"/>\n     <use style=\"fill:#ff0000;stroke:#ff0000;\" x=\"207.825447\" xlink:href=\"#md0585aa7d0\" y=\"47.820601\"/>\n    </g>\n   </g>\n   <g id=\"patch_3\">\n    <path d=\"M 42.620312 158.218125 \nL 42.620312 22.318125 \n\" style=\"fill:none;stroke:#000000;stroke-linecap:square;stroke-linejoin:miter;stroke-width:0.8;\"/>\n   </g>\n   <g id=\"patch_4\">\n    <path d=\"M 237.920313 158.218125 \nL 237.920313 22.318125 \n\" style=\"fill:none;stroke:#000000;stroke-linecap:square;stroke-linejoin:miter;stroke-width:0.8;\"/>\n   </g>\n   <g id=\"patch_5\">\n    <path d=\"M 42.620312 158.218125 \nL 237.920313 158.218125 \n\" style=\"fill:none;stroke:#000000;stroke-linecap:square;stroke-linejoin:miter;stroke-width:0.8;\"/>\n   </g>\n   <g id=\"patch_6\">\n    <path d=\"M 42.620312 22.318125 \nL 237.920313 22.318125 \n\" style=\"fill:none;stroke:#000000;stroke-linecap:square;stroke-linejoin:miter;stroke-width:0.8;\"/>\n   </g>\n   <g id=\"text_10\">\n    <!-- Stohastic Gradient Descent -->\n    <defs>\n     <path d=\"M 53.515625 70.515625 \nL 53.515625 60.890625 \nQ 47.90625 63.578125 42.921875 64.890625 \nQ 37.9375 66.21875 33.296875 66.21875 \nQ 25.25 66.21875 20.875 63.09375 \nQ 16.5 59.96875 16.5 54.203125 \nQ 16.5 49.359375 19.40625 46.890625 \nQ 22.3125 44.4375 30.421875 42.921875 \nL 36.375 41.703125 \nQ 47.40625 39.59375 52.65625 34.296875 \nQ 57.90625 29 57.90625 20.125 \nQ 57.90625 9.515625 50.796875 4.046875 \nQ 43.703125 -1.421875 29.984375 -1.421875 \nQ 24.8125 -1.421875 18.96875 -0.25 \nQ 13.140625 0.921875 6.890625 3.21875 \nL 6.890625 13.375 \nQ 12.890625 10.015625 18.65625 8.296875 \nQ 24.421875 6.59375 29.984375 6.59375 \nQ 38.421875 6.59375 43.015625 9.90625 \nQ 47.609375 13.234375 47.609375 19.390625 \nQ 47.609375 24.75 44.3125 27.78125 \nQ 41.015625 30.8125 33.5 32.328125 \nL 27.484375 33.5 \nQ 16.453125 35.6875 11.515625 40.375 \nQ 6.59375 45.0625 6.59375 53.421875 \nQ 6.59375 63.09375 13.40625 68.65625 \nQ 20.21875 74.21875 32.171875 74.21875 \nQ 37.3125 74.21875 42.625 73.28125 \nQ 47.953125 72.359375 53.515625 70.515625 \nz\n\" id=\"DejaVuSans-83\"/>\n     <path d=\"M 18.3125 70.21875 \nL 18.3125 54.6875 \nL 36.8125 54.6875 \nL 36.8125 47.703125 \nL 18.3125 47.703125 \nL 18.3125 18.015625 \nQ 18.3125 11.328125 20.140625 9.421875 \nQ 21.96875 7.515625 27.59375 7.515625 \nL 36.8125 7.515625 \nL 36.8125 0 \nL 27.59375 0 \nQ 17.1875 0 13.234375 3.875 \nQ 9.28125 7.765625 9.28125 18.015625 \nL 9.28125 47.703125 \nL 2.6875 47.703125 \nL 2.6875 54.6875 \nL 9.28125 54.6875 \nL 9.28125 70.21875 \nz\n\" id=\"DejaVuSans-116\"/>\n     <path d=\"M 30.609375 48.390625 \nQ 23.390625 48.390625 19.1875 42.75 \nQ 14.984375 37.109375 14.984375 27.296875 \nQ 14.984375 17.484375 19.15625 11.84375 \nQ 23.34375 6.203125 30.609375 6.203125 \nQ 37.796875 6.203125 41.984375 11.859375 \nQ 46.1875 17.53125 46.1875 27.296875 \nQ 46.1875 37.015625 41.984375 42.703125 \nQ 37.796875 48.390625 30.609375 48.390625 \nz\nM 30.609375 56 \nQ 42.328125 56 49.015625 48.375 \nQ 55.71875 40.765625 55.71875 27.296875 \nQ 55.71875 13.875 49.015625 6.21875 \nQ 42.328125 -1.421875 30.609375 -1.421875 \nQ 18.84375 -1.421875 12.171875 6.21875 \nQ 5.515625 13.875 5.515625 27.296875 \nQ 5.515625 40.765625 12.171875 48.375 \nQ 18.84375 56 30.609375 56 \nz\n\" id=\"DejaVuSans-111\"/>\n     <path d=\"M 54.890625 33.015625 \nL 54.890625 0 \nL 45.90625 0 \nL 45.90625 32.71875 \nQ 45.90625 40.484375 42.875 44.328125 \nQ 39.84375 48.1875 33.796875 48.1875 \nQ 26.515625 48.1875 22.3125 43.546875 \nQ 18.109375 38.921875 18.109375 30.90625 \nL 18.109375 0 \nL 9.078125 0 \nL 9.078125 75.984375 \nL 18.109375 75.984375 \nL 18.109375 46.1875 \nQ 21.34375 51.125 25.703125 53.5625 \nQ 30.078125 56 35.796875 56 \nQ 45.21875 56 50.046875 50.171875 \nQ 54.890625 44.34375 54.890625 33.015625 \nz\n\" id=\"DejaVuSans-104\"/>\n     <path d=\"M 34.28125 27.484375 \nQ 23.390625 27.484375 19.1875 25 \nQ 14.984375 22.515625 14.984375 16.5 \nQ 14.984375 11.71875 18.140625 8.90625 \nQ 21.296875 6.109375 26.703125 6.109375 \nQ 34.1875 6.109375 38.703125 11.40625 \nQ 43.21875 16.703125 43.21875 25.484375 \nL 43.21875 27.484375 \nz\nM 52.203125 31.203125 \nL 52.203125 0 \nL 43.21875 0 \nL 43.21875 8.296875 \nQ 40.140625 3.328125 35.546875 0.953125 \nQ 30.953125 -1.421875 24.3125 -1.421875 \nQ 15.921875 -1.421875 10.953125 3.296875 \nQ 6 8.015625 6 15.921875 \nQ 6 25.140625 12.171875 29.828125 \nQ 18.359375 34.515625 30.609375 34.515625 \nL 43.21875 34.515625 \nL 43.21875 35.40625 \nQ 43.21875 41.609375 39.140625 45 \nQ 35.0625 48.390625 27.6875 48.390625 \nQ 23 48.390625 18.546875 47.265625 \nQ 14.109375 46.140625 10.015625 43.890625 \nL 10.015625 52.203125 \nQ 14.9375 54.109375 19.578125 55.046875 \nQ 24.21875 56 28.609375 56 \nQ 40.484375 56 46.34375 49.84375 \nQ 52.203125 43.703125 52.203125 31.203125 \nz\n\" id=\"DejaVuSans-97\"/>\n     <path d=\"M 44.28125 53.078125 \nL 44.28125 44.578125 \nQ 40.484375 46.53125 36.375 47.5 \nQ 32.28125 48.484375 27.875 48.484375 \nQ 21.1875 48.484375 17.84375 46.4375 \nQ 14.5 44.390625 14.5 40.28125 \nQ 14.5 37.15625 16.890625 35.375 \nQ 19.28125 33.59375 26.515625 31.984375 \nL 29.59375 31.296875 \nQ 39.15625 29.25 43.1875 25.515625 \nQ 47.21875 21.78125 47.21875 15.09375 \nQ 47.21875 7.46875 41.1875 3.015625 \nQ 35.15625 -1.421875 24.609375 -1.421875 \nQ 20.21875 -1.421875 15.453125 -0.5625 \nQ 10.6875 0.296875 5.421875 2 \nL 5.421875 11.28125 \nQ 10.40625 8.6875 15.234375 7.390625 \nQ 20.0625 6.109375 24.8125 6.109375 \nQ 31.15625 6.109375 34.5625 8.28125 \nQ 37.984375 10.453125 37.984375 14.40625 \nQ 37.984375 18.0625 35.515625 20.015625 \nQ 33.0625 21.96875 24.703125 23.78125 \nL 21.578125 24.515625 \nQ 13.234375 26.265625 9.515625 29.90625 \nQ 5.8125 33.546875 5.8125 39.890625 \nQ 5.8125 47.609375 11.28125 51.796875 \nQ 16.75 56 26.8125 56 \nQ 31.78125 56 36.171875 55.265625 \nQ 40.578125 54.546875 44.28125 53.078125 \nz\n\" id=\"DejaVuSans-115\"/>\n     <path d=\"M 9.421875 54.6875 \nL 18.40625 54.6875 \nL 18.40625 0 \nL 9.421875 0 \nz\nM 9.421875 75.984375 \nL 18.40625 75.984375 \nL 18.40625 64.59375 \nL 9.421875 64.59375 \nz\n\" id=\"DejaVuSans-105\"/>\n     <path d=\"M 48.78125 52.59375 \nL 48.78125 44.1875 \nQ 44.96875 46.296875 41.140625 47.34375 \nQ 37.3125 48.390625 33.40625 48.390625 \nQ 24.65625 48.390625 19.8125 42.84375 \nQ 14.984375 37.3125 14.984375 27.296875 \nQ 14.984375 17.28125 19.8125 11.734375 \nQ 24.65625 6.203125 33.40625 6.203125 \nQ 37.3125 6.203125 41.140625 7.25 \nQ 44.96875 8.296875 48.78125 10.40625 \nL 48.78125 2.09375 \nQ 45.015625 0.34375 40.984375 -0.53125 \nQ 36.96875 -1.421875 32.421875 -1.421875 \nQ 20.0625 -1.421875 12.78125 6.34375 \nQ 5.515625 14.109375 5.515625 27.296875 \nQ 5.515625 40.671875 12.859375 48.328125 \nQ 20.21875 56 33.015625 56 \nQ 37.15625 56 41.109375 55.140625 \nQ 45.0625 54.296875 48.78125 52.59375 \nz\n\" id=\"DejaVuSans-99\"/>\n     <path id=\"DejaVuSans-32\"/>\n     <path d=\"M 59.515625 10.40625 \nL 59.515625 29.984375 \nL 43.40625 29.984375 \nL 43.40625 38.09375 \nL 69.28125 38.09375 \nL 69.28125 6.78125 \nQ 63.578125 2.734375 56.6875 0.65625 \nQ 49.8125 -1.421875 42 -1.421875 \nQ 24.90625 -1.421875 15.25 8.5625 \nQ 5.609375 18.5625 5.609375 36.375 \nQ 5.609375 54.25 15.25 64.234375 \nQ 24.90625 74.21875 42 74.21875 \nQ 49.125 74.21875 55.546875 72.453125 \nQ 61.96875 70.703125 67.390625 67.28125 \nL 67.390625 56.78125 \nQ 61.921875 61.421875 55.765625 63.765625 \nQ 49.609375 66.109375 42.828125 66.109375 \nQ 29.4375 66.109375 22.71875 58.640625 \nQ 16.015625 51.171875 16.015625 36.375 \nQ 16.015625 21.625 22.71875 14.15625 \nQ 29.4375 6.6875 42.828125 6.6875 \nQ 48.046875 6.6875 52.140625 7.59375 \nQ 56.25 8.5 59.515625 10.40625 \nz\n\" id=\"DejaVuSans-71\"/>\n     <path d=\"M 41.109375 46.296875 \nQ 39.59375 47.171875 37.8125 47.578125 \nQ 36.03125 48 33.890625 48 \nQ 26.265625 48 22.1875 43.046875 \nQ 18.109375 38.09375 18.109375 28.8125 \nL 18.109375 0 \nL 9.078125 0 \nL 9.078125 54.6875 \nL 18.109375 54.6875 \nL 18.109375 46.1875 \nQ 20.953125 51.171875 25.484375 53.578125 \nQ 30.03125 56 36.53125 56 \nQ 37.453125 56 38.578125 55.875 \nQ 39.703125 55.765625 41.0625 55.515625 \nz\n\" id=\"DejaVuSans-114\"/>\n     <path d=\"M 45.40625 46.390625 \nL 45.40625 75.984375 \nL 54.390625 75.984375 \nL 54.390625 0 \nL 45.40625 0 \nL 45.40625 8.203125 \nQ 42.578125 3.328125 38.25 0.953125 \nQ 33.9375 -1.421875 27.875 -1.421875 \nQ 17.96875 -1.421875 11.734375 6.484375 \nQ 5.515625 14.40625 5.515625 27.296875 \nQ 5.515625 40.1875 11.734375 48.09375 \nQ 17.96875 56 27.875 56 \nQ 33.9375 56 38.25 53.625 \nQ 42.578125 51.265625 45.40625 46.390625 \nz\nM 14.796875 27.296875 \nQ 14.796875 17.390625 18.875 11.75 \nQ 22.953125 6.109375 30.078125 6.109375 \nQ 37.203125 6.109375 41.296875 11.75 \nQ 45.40625 17.390625 45.40625 27.296875 \nQ 45.40625 37.203125 41.296875 42.84375 \nQ 37.203125 48.484375 30.078125 48.484375 \nQ 22.953125 48.484375 18.875 42.84375 \nQ 14.796875 37.203125 14.796875 27.296875 \nz\n\" id=\"DejaVuSans-100\"/>\n     <path d=\"M 56.203125 29.59375 \nL 56.203125 25.203125 \nL 14.890625 25.203125 \nQ 15.484375 15.921875 20.484375 11.0625 \nQ 25.484375 6.203125 34.421875 6.203125 \nQ 39.59375 6.203125 44.453125 7.46875 \nQ 49.3125 8.734375 54.109375 11.28125 \nL 54.109375 2.78125 \nQ 49.265625 0.734375 44.1875 -0.34375 \nQ 39.109375 -1.421875 33.890625 -1.421875 \nQ 20.796875 -1.421875 13.15625 6.1875 \nQ 5.515625 13.8125 5.515625 26.8125 \nQ 5.515625 40.234375 12.765625 48.109375 \nQ 20.015625 56 32.328125 56 \nQ 43.359375 56 49.78125 48.890625 \nQ 56.203125 41.796875 56.203125 29.59375 \nz\nM 47.21875 32.234375 \nQ 47.125 39.59375 43.09375 43.984375 \nQ 39.0625 48.390625 32.421875 48.390625 \nQ 24.90625 48.390625 20.390625 44.140625 \nQ 15.875 39.890625 15.1875 32.171875 \nz\n\" id=\"DejaVuSans-101\"/>\n     <path d=\"M 54.890625 33.015625 \nL 54.890625 0 \nL 45.90625 0 \nL 45.90625 32.71875 \nQ 45.90625 40.484375 42.875 44.328125 \nQ 39.84375 48.1875 33.796875 48.1875 \nQ 26.515625 48.1875 22.3125 43.546875 \nQ 18.109375 38.921875 18.109375 30.90625 \nL 18.109375 0 \nL 9.078125 0 \nL 9.078125 54.6875 \nL 18.109375 54.6875 \nL 18.109375 46.1875 \nQ 21.34375 51.125 25.703125 53.5625 \nQ 30.078125 56 35.796875 56 \nQ 45.21875 56 50.046875 50.171875 \nQ 54.890625 44.34375 54.890625 33.015625 \nz\n\" id=\"DejaVuSans-110\"/>\n     <path d=\"M 19.671875 64.796875 \nL 19.671875 8.109375 \nL 31.59375 8.109375 \nQ 46.6875 8.109375 53.6875 14.9375 \nQ 60.6875 21.78125 60.6875 36.53125 \nQ 60.6875 51.171875 53.6875 57.984375 \nQ 46.6875 64.796875 31.59375 64.796875 \nz\nM 9.8125 72.90625 \nL 30.078125 72.90625 \nQ 51.265625 72.90625 61.171875 64.09375 \nQ 71.09375 55.28125 71.09375 36.53125 \nQ 71.09375 17.671875 61.125 8.828125 \nQ 51.171875 0 30.078125 0 \nL 9.8125 0 \nz\n\" id=\"DejaVuSans-68\"/>\n    </defs>\n    <g transform=\"translate(58.002812 16.318125)scale(0.12 -0.12)\">\n     <use xlink:href=\"#DejaVuSans-83\"/>\n     <use x=\"63.476562\" xlink:href=\"#DejaVuSans-116\"/>\n     <use x=\"102.685547\" xlink:href=\"#DejaVuSans-111\"/>\n     <use x=\"163.867188\" xlink:href=\"#DejaVuSans-104\"/>\n     <use x=\"227.246094\" xlink:href=\"#DejaVuSans-97\"/>\n     <use x=\"288.525391\" xlink:href=\"#DejaVuSans-115\"/>\n     <use x=\"340.625\" xlink:href=\"#DejaVuSans-116\"/>\n     <use x=\"379.833984\" xlink:href=\"#DejaVuSans-105\"/>\n     <use x=\"407.617188\" xlink:href=\"#DejaVuSans-99\"/>\n     <use x=\"462.597656\" xlink:href=\"#DejaVuSans-32\"/>\n     <use x=\"494.384766\" xlink:href=\"#DejaVuSans-71\"/>\n     <use x=\"571.875\" xlink:href=\"#DejaVuSans-114\"/>\n     <use x=\"612.988281\" xlink:href=\"#DejaVuSans-97\"/>\n     <use x=\"674.267578\" xlink:href=\"#DejaVuSans-100\"/>\n     <use x=\"737.744141\" xlink:href=\"#DejaVuSans-105\"/>\n     <use x=\"765.527344\" xlink:href=\"#DejaVuSans-101\"/>\n     <use x=\"827.050781\" xlink:href=\"#DejaVuSans-110\"/>\n     <use x=\"890.429688\" xlink:href=\"#DejaVuSans-116\"/>\n     <use x=\"929.638672\" xlink:href=\"#DejaVuSans-32\"/>\n     <use x=\"961.425781\" xlink:href=\"#DejaVuSans-68\"/>\n     <use x=\"1038.427734\" xlink:href=\"#DejaVuSans-101\"/>\n     <use x=\"1099.951172\" xlink:href=\"#DejaVuSans-115\"/>\n     <use x=\"1152.050781\" xlink:href=\"#DejaVuSans-99\"/>\n     <use x=\"1207.03125\" xlink:href=\"#DejaVuSans-101\"/>\n     <use x=\"1268.554688\" xlink:href=\"#DejaVuSans-110\"/>\n     <use x=\"1331.933594\" xlink:href=\"#DejaVuSans-116\"/>\n    </g>\n   </g>\n  </g>\n </g>\n <defs>\n  <clipPath id=\"pd5b6f4ab31\">\n   <rect height=\"135.9\" width=\"195.3\" x=\"42.620312\" y=\"22.318125\"/>\n  </clipPath>\n </defs>\n</svg>\n"
          },
          "metadata": {
            "needs_background": "light"
          }
        }
      ]
    },
    {
      "cell_type": "markdown",
      "source": [
        "## Полезные ссылки"
      ],
      "metadata": {
        "id": "6ms5Ewoq4QAy"
      }
    },
    {
      "cell_type": "markdown",
      "source": [
        "\n",
        "\n",
        "*   [About SGD](https://arxiv.org/pdf/1907.04232.pdf)\n",
        "*   [Сравнение методов](https://bl.ocks.org/EmilienDupont/aaf429be5705b219aaaf8d691e27ca87)\n",
        "\n"
      ],
      "metadata": {
        "id": "ryjKb5Xo4W4n"
      }
    },
    {
      "cell_type": "code",
      "source": [],
      "metadata": {
        "id": "6zLOYq2032AC"
      },
      "execution_count": null,
      "outputs": []
    }
  ]
}