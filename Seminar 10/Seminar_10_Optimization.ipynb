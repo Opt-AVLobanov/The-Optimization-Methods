{
  "nbformat": 4,
  "nbformat_minor": 0,
  "metadata": {
    "colab": {
      "provenance": [],
      "collapsed_sections": [
        "A9H6fIDIKXpS",
        "xMvD2fa2KlVc",
        "pe_9S5OwPQ--",
        "nmVkupBjRJHs",
        "mzjLK7KMSNed",
        "3lsuV7fvTNAG",
        "qzfGpDcEUcmH",
        "XOSyW2bsVFLF",
        "ygo_CclGX62D",
        "fA-Q8AnCczVy",
        "iPgEUCaUc6bB"
      ]
    },
    "kernelspec": {
      "name": "python3",
      "display_name": "Python 3"
    },
    "language_info": {
      "name": "python"
    }
  },
  "cells": [
    {
      "cell_type": "markdown",
      "source": [
        "# Семинар 10\n",
        "# Градиентный спуск/поток. Наискорейший спуск. Сходимость в выпуклом случае"
      ],
      "metadata": {
        "id": "HOZFaRMfBVoe"
      }
    },
    {
      "cell_type": "markdown",
      "source": [
        "**Вопрос**: Опишите возможности оракула. Что принимает оракул на вход, а что может дать на выход?"
      ],
      "metadata": {
        "id": "EHbECqpmKHuy"
      }
    },
    {
      "cell_type": "markdown",
      "source": [
        "Рассмотрим классическую задачу минимизации функции:\n",
        "\n",
        "$$\\min_{x \\in \\mathbb{R}^n} f(x)$$\n",
        "\n",
        "Тогда метод градиентного спуска выглядит следующим образом:\n",
        "\n",
        "$$x_{k+1} = x_{k} - \\eta_{k} \\nabla f(x_k)$$"
      ],
      "metadata": {
        "id": "Mlb72Ol2JHqL"
      }
    },
    {
      "cell_type": "markdown",
      "source": [
        "## Интуиция GD"
      ],
      "metadata": {
        "id": "A9H6fIDIKXpS"
      }
    },
    {
      "cell_type": "markdown",
      "source": [
        "### Направление локального наискорейшего спуска"
      ],
      "metadata": {
        "id": "xMvD2fa2KlVc"
      }
    },
    {
      "cell_type": "markdown",
      "source": [
        "\n",
        "Рассмотрим линейную аппроксимацию дифференцируемой функции $f$ по некоторому направлению $h$, $\\| h \\|_2 = 1$ с неотрицательным размером шага $\\eta$:\n",
        "\n",
        "$$f(x + \\eta h) = f(x) + \\eta \\langle f'(x), h \\rangle + o(\\eta)$$\n",
        "\n",
        "Мы хотим, чтобы $h$ было убывающим направлением:\n",
        "\n",
        "$$f(x+ \\eta h) \\leq f(x)$$\n",
        "$$f(x) + \\eta \\langle f'(x), h \\rangle + o(\\eta) \\leq f(x) $$\n",
        "\n",
        "и переходя к пределу с $\\eta \\rightarrow 0$:\n",
        "\n",
        "$$ \\langle f'(x), h \\rangle \\leq 0 $$\n",
        "\n",
        "Также из неравенства Коши–Буняковского–Шварца:\n",
        "\n",
        "$$ | \\langle f'(x), h \\rangle | \\leq \\| f'(x) \\|_2 \\| h \\|_2 \\;\\;\\; \\rightarrow  \\;\\;\\; \\langle f'(x), h \\rangle \\geq - \\| f'(x) \\|_2 \\| h \\|_2 = - \\| f'(x) \\|_2$$\n",
        "\n",
        "Таким образом, направление антиградиента\n",
        "\n",
        "$$ h = - \\frac{f'(x)}{\\| f'(x) \\|_2} $$\n",
        "\n",
        "дает направление наибольшего локального убывания функции.\n",
        "\n",
        "Результатом этого метода является \n",
        "\n",
        "$$x_{k+1} = x_{k} - \\eta \\nabla f(x_k)$$\n",
        "\n",
        "\n",
        "\n"
      ],
      "metadata": {
        "id": "cZXwVpJkKppn"
      }
    },
    {
      "cell_type": "markdown",
      "source": [
        "### Схема Эйлера решения ОДУ"
      ],
      "metadata": {
        "id": "pe_9S5OwPQ--"
      }
    },
    {
      "cell_type": "markdown",
      "source": [
        "Рассмотрим обыкновенное диференциальное уравнение вида, которое называется уравнением градиентного потока:\n",
        "\n",
        "$$\\frac{dx}{dt} = -f'(x(t))$$\n",
        "\n",
        "и дискретизуем его на равномерной сетке с шагом $\\eta$\n",
        "\n",
        "$$\\frac{x_{k+1} - x_k}{\\eta} = -f'(x(t)),$$\n",
        "\n",
        "где $x_{k}:= x(t_k)$ и $\\eta = t_{k+1} - t_k$ - шаг сетки.\n",
        "\n",
        "Отсюда получаем выражение для $x_{k+1}$\n",
        "\n",
        "$$x_{k+1} = x_{k} - \\eta \\nabla f(x_k)$$\n",
        "\n",
        "которое в точности совпадает с выражением для градиентного спуска.\n",
        "\n",
        "Такая схема называется явной или прямой схемой Эйлера.\n"
      ],
      "metadata": {
        "id": "gp-mQevZPVQt"
      }
    },
    {
      "cell_type": "markdown",
      "source": [
        "### Необходимое условие локального минимума"
      ],
      "metadata": {
        "id": "nmVkupBjRJHs"
      }
    },
    {
      "cell_type": "markdown",
      "source": [
        "$$ f'(x) = 0 $$\n",
        "\n",
        "$$- \\eta f'(x) = 0$$\n",
        "\n",
        "$$x - \\eta f'(x) = x$$\n",
        "\n",
        "$$x_{k} - \\eta f'(x) = x_{k+1}$$\n",
        "\n",
        "Данное выражение не является доказательством, а является каким-то интуитивным объяснением.\n"
      ],
      "metadata": {
        "id": "STpPXtEMRNMU"
      }
    },
    {
      "cell_type": "markdown",
      "source": [
        "## Стратегии выбора размера шага"
      ],
      "metadata": {
        "id": "mzjLK7KMSNed"
      }
    },
    {
      "cell_type": "code",
      "source": [
        "pip install git+https://github.com/amkatrutsa/liboptpy"
      ],
      "metadata": {
        "colab": {
          "base_uri": "https://localhost:8080/"
        },
        "id": "cwBWqqYDSxpX",
        "outputId": "4633c0df-dff1-4e40-f6f9-304b32cadd2f"
      },
      "execution_count": null,
      "outputs": [
        {
          "output_type": "stream",
          "name": "stdout",
          "text": [
            "Looking in indexes: https://pypi.org/simple, https://us-python.pkg.dev/colab-wheels/public/simple/\n",
            "Collecting git+https://github.com/amkatrutsa/liboptpy\n",
            "  Cloning https://github.com/amkatrutsa/liboptpy to /tmp/pip-req-build-zgsert50\n",
            "  Running command git clone -q https://github.com/amkatrutsa/liboptpy /tmp/pip-req-build-zgsert50\n",
            "Requirement already satisfied: numpy>=1.12 in /usr/local/lib/python3.7/dist-packages (from liboptpy==0.0.1) (1.21.6)\n",
            "Requirement already satisfied: scipy>=1.0 in /usr/local/lib/python3.7/dist-packages (from liboptpy==0.0.1) (1.7.3)\n"
          ]
        }
      ]
    },
    {
      "cell_type": "code",
      "execution_count": null,
      "metadata": {
        "id": "unBB8H01BSLE"
      },
      "outputs": [],
      "source": [
        "\n",
        "%matplotlib inline\n",
        "\n",
        "import matplotlib.pyplot as plt\n",
        "import ipywidgets as ipywidg\n",
        "import numpy as np\n",
        "import liboptpy.unconstr_solvers as methods\n",
        "import liboptpy.step_size as ss"
      ]
    },
    {
      "cell_type": "code",
      "source": [
        "f = lambda x: np.power(x, 2)\n",
        "gradf = lambda x: 2 * x\n",
        "\n",
        "fig = plt.figure()\n",
        "ax = fig.add_subplot(1, 1, 1)\n",
        "\n",
        "def update(x0, step):\n",
        "    gd = methods.fo.GradientDescent(f, gradf, ss.ConstantStepSize(step))\n",
        "    _ = gd.solve(np.array([x0]), max_iter=10)\n",
        "    x_hist = gd.get_convergence()\n",
        "    x = np.linspace(-5, 5)\n",
        "    ax.clear()\n",
        "    ax.plot(x, f(x), color=\"r\", label=\"$f(x) = x^2$\")\n",
        "    y_hist = np.array([f(x) for x in x_hist])\n",
        "    x_hist = np.array(x_hist)\n",
        "    plt.quiver(x_hist[:-1], y_hist[:-1], x_hist[1:]-x_hist[:-1], y_hist[1:]-y_hist[:-1], \n",
        "               scale_units='xy', angles='xy', scale=1, width=0.005, color=\"green\", label=\"Descent path\")\n",
        "    ax.legend()\n",
        "    fig.canvas.draw()\n",
        "\n",
        "step_slider = 0.1#@param {type:\"slider\", min:0, max:2.0, step:0.1}\n",
        "x0_slider =  4#@param {type:\"slider\", min:-4, max:4, step:0.1}\n",
        "update(x0_slider, step_slider)"
      ],
      "metadata": {
        "colab": {
          "base_uri": "https://localhost:8080/",
          "height": 265
        },
        "id": "GZ2jKS94CR_c",
        "outputId": "7e30e5f2-468e-48a1-878d-6ea9291fb41d"
      },
      "execution_count": null,
      "outputs": [
        {
          "output_type": "display_data",
          "data": {
            "text/plain": [
              "<Figure size 432x288 with 1 Axes>"
            ],
            "image/png": "[encoded data removed]"
          },
          "metadata": {
            "needs_background": "light"
          }
        }
      ]
    },
    {
      "cell_type": "markdown",
      "source": [
        "**Пример** Найдите параметр $\\eta$, при котором алгоритм GD будет расходиться, зная, что функция $f(x) = x^2$. "
      ],
      "metadata": {
        "id": "X7pElCaISRbs"
      }
    },
    {
      "cell_type": "markdown",
      "source": [
        "### Постоянный шаг"
      ],
      "metadata": {
        "id": "3lsuV7fvTNAG"
      }
    },
    {
      "cell_type": "markdown",
      "source": [
        "Для $f \\in C^{1,1}_{L}:$\n",
        "\n",
        "$$\\eta_k = \\eta $$\n",
        "\n",
        "$$f(x_{k}) - f(x_{k+1}) \\geq \\eta \\left( 1 - \\frac{1}{2} L \\eta \\right) \\| \\nabla f(x_{k}) \\|_2^2 $$\n",
        "\n",
        "С выбором $\\eta = \\frac{1}{L},$ мы имеем: \n",
        "\n",
        "$$f(x_{k}) - f(x_{k+1}) \\geq  \\frac{1}{2L}  \\| \\nabla f(x_{k}) \\|_2^2 $$"
      ],
      "metadata": {
        "id": "XOuxZvVcTP6i"
      }
    },
    {
      "cell_type": "markdown",
      "source": [
        "### Фиксированная последовательность"
      ],
      "metadata": {
        "id": "qzfGpDcEUcmH"
      }
    },
    {
      "cell_type": "markdown",
      "source": [
        "$$\\eta_{k} = \\frac{1}{\\sqrt{k+1}}$$"
      ],
      "metadata": {
        "id": "qrZWq-mWUqcM"
      }
    },
    {
      "cell_type": "markdown",
      "source": [
        "Последние 2 стратегии являются наиболее простыми с точки зрения реализации и аналитического анализа. Понятно, что на практике такой подход часто работает не очень хорошо (геометрия функции заранее не известна)."
      ],
      "metadata": {
        "id": "v7OE01NMUpmb"
      }
    },
    {
      "cell_type": "markdown",
      "source": [
        "### Метод наискорейшего спуска"
      ],
      "metadata": {
        "id": "XOSyW2bsVFLF"
      }
    },
    {
      "cell_type": "markdown",
      "source": [
        "$$\\eta_{k} = \\arg \\min_{\\eta \\in \\mathbb{R}_+} f(x_{k+1}) = \\arg \\min_{\\eta \\in \\mathbb{R}_+} f(x_{k} - \\eta \\nabla f(x_{k}))$$\n",
        "\n",
        "Больше теоретический, чем практический подход. Это также позволяет анализировать сходимость, но часто точный line search может быть затруднен, если вычисление функции занимает слишком много времени или стоит дорого.\n",
        "\n",
        "Интересным теоретическим свойством этого метода является то, что каждая следующая итерация ортогональна предыдущей:\n",
        "\n",
        "$$\\nabla f(x_{k+1})^T \\nabla f(x_{k}) = 0$$\n"
      ],
      "metadata": {
        "id": "dxhP1BOuVneX"
      }
    },
    {
      "cell_type": "markdown",
      "source": [
        "**Пример**: найти параметр $\\eta$ для квадратичных функций $f(x) = \\frac{1}{2} x^T A x - b^T x + c$, где $A \\in \\mathbb{S}_{++}$."
      ],
      "metadata": {
        "id": "l_OKV_1AWwhl"
      }
    },
    {
      "cell_type": "markdown",
      "source": [
        "## Анализ сходимости"
      ],
      "metadata": {
        "id": "ygo_CclGX62D"
      }
    },
    {
      "cell_type": "markdown",
      "source": [
        "### Липишица непрерывный градиент"
      ],
      "metadata": {
        "id": "fA-Q8AnCczVy"
      }
    },
    {
      "cell_type": "markdown",
      "source": [
        "Предположим, что $f: \\mathbb{R}^n \\rightarrow \\mathbb{R}$ является выпуклой и дифференцируемой функцией и дополнительно\n",
        "\n",
        "$$\\| \\nabla f(x) - \\nabla f(y) \\| \\leq L \\| x - y \\|,$$ для $\\forall x,y \\in \\mathbb{R^n}$, т.е. $\\nabla f$ является Липшицивой непрерывной функцией с константой $L > 0$.\n",
        "\n",
        "Поскольку $\\nabla f $ Липшицева с константой $L$, что означает $\\nabla^2 f - LI \\preceq 0$, имеем $\\forall x,y,z$:\n",
        "\n",
        "$$(x-y)^T (\\nabla^2 f(z) - LI) (x-y) \\leq 0$$\n",
        "\n",
        "$$(x-y)^T \\nabla^2 f(z) (x-y) \\leq L\\| x-y \\|^2$$\n",
        "\n",
        "Теперь рассмотрим аппроксимацию Тейлора второго порядка для $f(y)$ и теорему Тейлора об остатках (предполагаем, что функция $f$ непрерывно дифференцируема), имеем $\\forall x,y, \\exists z \\in [x,y]:$\n",
        "\n",
        "$$f(y) = f(x) + \\nabla f(x)^T (y-x) + \\frac{1}{2} (x-y)^T \\nabla^2 f(z) (x-y) \\leq f(x) + \\nabla f(x)^T (y-x) + \\frac{L}{2}\\| x-y \\|^2. $$\n",
        "\n",
        "Тогда для градиентного спуска имеем $x = x_k, y = x_{k+1}, x_{k+1} = x_{k} - \\eta_{k} \\nabla f(x_{k})$:\n",
        "\n",
        "$$ f(x_{k+1}) \\leq f(x_{k}) + \\nabla f(x_{k}) ^T (\\eta_{k} \\nabla f(x_{k})) + \\frac{L}{2}\\| \\eta_{k} \\nabla f(x_{k}) \\|^2 \\Rightarrow  $$\n",
        "\n",
        "$$ \\Rightarrow f(x_{k+1}) \\leq f(x_{k}) - \\eta \\left( 1 - \\frac{1}{2} L \\eta \\right) \\| \\nabla f(x_{k}) \\|_2^2 $$\n",
        "\n"
      ],
      "metadata": {
        "id": "Z1THXpelYBkg"
      }
    },
    {
      "cell_type": "markdown",
      "source": [
        "### Оптимальная константа размера шага"
      ],
      "metadata": {
        "id": "iPgEUCaUc6bB"
      }
    },
    {
      "cell_type": "markdown",
      "source": [
        "Теперь, если мы рассмотрим стратегию постоянного шага и максимизируем $\\left( 1 - \\frac{1}{2} L \\eta \\right) \\eta \\rightarrow \\max_{\\eta}$, то получим $\\eta = \\frac{1}{L}$.\n",
        "\n",
        "$$f(x_{k+1}) \\leq f(x_k) - \\frac{1}{2L} \\| \\nabla f(x_k) \\|^2$$"
      ],
      "metadata": {
        "id": "VnDUgo1zdAml"
      }
    },
    {
      "cell_type": "markdown",
      "source": [
        "### Выпуклость"
      ],
      "metadata": {
        "id": "O3zZPguNdev9"
      }
    },
    {
      "cell_type": "markdown",
      "source": [
        "$$f(x_{k}) \\leq f(x^*) + \\nabla f(x_{k})^T (x_{k} - x^*)$$\n",
        "\n",
        "Применяя это, получим\n",
        "\n",
        "\\begin{equation*}\n",
        "\\begin{split}\n",
        "   f(x_{k+1}) & \\leq  f(x^*) + \\nabla f(x_{k})^T (x_{k} - x^*) - \\frac{1}{2L} \\| \\nabla f(x_k) \\|^2 = \\\\\n",
        "   & = f(x^*) + \\frac{L}{2} \\left( \\| x_k - x^* \\|^2 - \\| x_k - x^* - \\frac{1}{L} \\nabla f(x_k) \\|^2 \\right)= \\\\\n",
        "   & = f(x^*) + \\frac{L}{2} \\left( \\| x_k - x^* \\|^2 - \\| x_{k+1} - x^* \\|^2 \\right)\n",
        "\\end{split}\n",
        "\\end{equation*}\n",
        "\n",
        "Таким образом, суммируя по всем итерациям, имеем:\n",
        "\n",
        "\\begin{equation*}\n",
        "\\begin{split}\n",
        "   \\sum_{i = 1}^{k} (f(x_i) - f(x^*)) & \\leq \\frac{L}{2} \\left( \\| x_0 - x^* \\|^2 - \\| x_{k} - x^* \\|^2 \\right) \\\\\n",
        "    & \\leq \\frac{L}{2} \\left( \\| x_0 - x^* \\|^2 \\right) = \\frac{LR^2}{2},\n",
        "\\end{split}\n",
        "\\end{equation*}\n",
        "\n",
        "где $R = \\| x_0 - x^* \\|$. И из-за монотонности:\n",
        "\n",
        "$$ f(x_k) - f(x^*) \\leq \\sum_{i = 1}^{k} (f(x_i) - f(x^*)) \\leq \\frac{L}{2} \\left( \\| x_0 - x^* \\|^2 \\right) = \\frac{LR^2}{2k} = \\frac{R^2}{2\\eta k}$$\n",
        "\n",
        "\n"
      ],
      "metadata": {
        "id": "PzMJVOiVdgvj"
      }
    },
    {
      "cell_type": "code",
      "source": [],
      "metadata": {
        "id": "WfQ5we4jIgSQ"
      },
      "execution_count": null,
      "outputs": []
    },
    {
      "cell_type": "markdown",
      "source": [
        "## Домашнее задание"
      ],
      "metadata": {
        "id": "qYL5psE92kKI"
      }
    },
    {
      "cell_type": "markdown",
      "source": [
        "$\\boxed{\\textbf{deadline}\\text{: 23:59 (Московское время), 17 ноября}}$\n",
        "\n",
        "\n",
        "\n",
        "1.   Решите задачу линейного программирования табличной реализацией Симплекс-метода и сделайте проверку (через любой solver):\n",
        "\\begin{equation}\n",
        "  \\begin{split}\n",
        "    & \\max_x c^{\\top}x \\\\\n",
        "    \\text{s.t. } & Ax \\leq b\\\\\n",
        "    & x_i \\geq 0,\n",
        "  \\end{split}\n",
        "\\end{equation}\n",
        "\n",
        "где\n",
        "\\begin{equation}\n",
        "A = \\begin{pmatrix}\n",
        "    2 & 3 & 6\\\\\n",
        "    4 & 2 & 4\\\\\n",
        "    4 & 6 & 8\n",
        "\\end{pmatrix}, \\;\\;\\;\n",
        "b = \\begin{pmatrix} 240 \\\\ 200 \\\\ 160 \\end{pmatrix}, \\;\\;\\;\n",
        "c = \\begin{pmatrix} 4 \\\\ 5 \\\\ 4 \\end{pmatrix}\n",
        "\\end{equation}\n",
        "\n",
        "2.   Решите ЗЛП табличной реализацией М-метода (Двухфазный Симплекс-метод) и сделайте проверку (через любой solver):\n",
        "\\begin{equation}\n",
        "  \\begin{split}\n",
        "    & \\min x_1 + x_2 + x_3 - x_4\\\\\n",
        "    \\text{s.t. } & x_1 + 2x_2+ 3x_3 = 3\\\\\n",
        "    & -x_1 + 2x_2 + 6x_3 = 2\\\\\n",
        "    & 4x_2 + 9x_3 = 5\\\\\n",
        "    & 3x_3 + x_4 = 2\\\\\n",
        "    & x_{1,2,3,4} \\geq 0\n",
        "  \\end{split}\n",
        "\\end{equation}\n",
        "\n",
        "3.   Используя Ratio test, покажите, что последовательность $r_k = \\left\\{ \\frac{1}{k} \\right\\}_{k=1}^{\\infty}$ не имеет линейную скорость сходимости.\n",
        "4.   Определите скорость сходимости следующей последовательности: $r_k = 0.707^k$ \n",
        "5.   Используя 5 методов глобальной оптимизации 0-порядка решите задачу максимизации функции, представленной ниже. $$ max_{x \\in \\mathbb{R}} f(x) $$ При решении оптимизационной задачи следует использовать (как минимум) 2 алгоритма, не рассказанных на семинаре. \n",
        "\n",
        "**Замечание**: В решении задания №5 должно присутствовать: \n",
        "   \n",
        "*   краткое описание идей алгоритмов, которые были использованы;\n",
        "*   анализ своих результатов; \n",
        "*   вывод, содержащий информацию какой алгоритм лучше работает.\n",
        "\n",
        "\n",
        "\n"
      ],
      "metadata": {
        "id": "ILYwBkw02p5a"
      }
    },
    {
      "cell_type": "code",
      "source": [
        "import pylab\n",
        "import matplotlib\n",
        "import matplotlib.pyplot as plt\n",
        "from matplotlib.pyplot import figure\n",
        "\n",
        "def f(x):\n",
        "    return np.where((x - np.floor(x)) * np.abs(x + 5) < 0.2 * (np.abs(x) < 4), \n",
        "                    0.3 * np.floor(x),\n",
        "           3.5 * np.exp(-2 * (x - 6)**2) + \\\n",
        "           2 * np.exp(-5 * (x + 1)**2) + \\\n",
        "           3 * np.exp(-0.5 * (x - 3)**4) + \\\n",
        "           0.5 * np.exp(- (x+7)**2) + \\\n",
        "           0.1 * np.cos(x * 30) + \\\n",
        "           0.01 * np.abs(x - 7) * np.sin(x**3 / 13) - \\\n",
        "           np.tanh(x**2) -\n",
        "           0.1 * np.abs(x))+ 3.5 * np.exp(-2 * (x - 9)**2) "
      ],
      "metadata": {
        "id": "Dwu63iYp2n_l"
      },
      "execution_count": null,
      "outputs": []
    },
    {
      "cell_type": "code",
      "source": [
        "def draw_F(size=(14,4)):\n",
        "    figure(num=None, figsize=size, dpi=80, facecolor='w', edgecolor='k')\n",
        "    font = {'size'   : 12}\n",
        "    matplotlib.rc('font', **font)\n",
        "\n",
        "    x = np.linspace(-10, 10, 1000)\n",
        "    plt.plot(x, f(x), label=\"ground truth\", alpha=0.6)\n",
        "    \n",
        "    pylab.xlabel(\"argument, $x$\")\n",
        "    pylab.ylabel(\"value, $f(x)$\")\n",
        "    plt.xlim(-10, 10)\n",
        "    plt.ylim(-2.7, 2.1)"
      ],
      "metadata": {
        "id": "TchuewDw5YC6"
      },
      "execution_count": null,
      "outputs": []
    },
    {
      "cell_type": "code",
      "source": [
        "draw_F()"
      ],
      "metadata": {
        "colab": {
          "base_uri": "https://localhost:8080/",
          "height": 315
        },
        "id": "-WivwxRk5mGB",
        "outputId": "b2ede2df-a32f-4679-f052-e484a6423f5d"
      },
      "execution_count": null,
      "outputs": [
        {
          "output_type": "display_data",
          "data": {
            "text/plain": [
              "<Figure size 1120x320 with 1 Axes>"
            ],
            "image/png": "[encoded data removed]"
          },
          "metadata": {}
        }
      ]
    },
    {
      "cell_type": "code",
      "source": [],
      "metadata": {
        "id": "SPNIwKbo5pw7"
      },
      "execution_count": null,
      "outputs": []
    }
  ]
}